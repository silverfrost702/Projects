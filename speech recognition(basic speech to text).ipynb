{
 "cells": [
  {
   "cell_type": "code",
   "execution_count": 9,
   "metadata": {},
   "outputs": [],
   "source": [
    "import speech_recognition as sr\n",
    "import webbrowser as wb"
   ]
  },
  {
   "cell_type": "code",
   "execution_count": 10,
   "metadata": {},
   "outputs": [],
   "source": [
    "import pyaudio"
   ]
  },
  {
   "cell_type": "code",
   "execution_count": 11,
   "metadata": {},
   "outputs": [],
   "source": [
    "# we will make 3 instances\n",
    "r1 = sr.Recognizer()\n",
    "r2 = sr.Recognizer()\n",
    "r3 = sr.Recognizer()"
   ]
  },
  {
   "cell_type": "code",
   "execution_count": 15,
   "metadata": {},
   "outputs": [
    {
     "name": "stdout",
     "output_type": "stream",
     "text": [
      "[search udemy: search youtube]\n",
      "speak now\n",
      "search your query\n",
      "python\n"
     ]
    }
   ],
   "source": [
    "# these above instances take input from source and that comes from here\n",
    "with sr.Microphone() as source:\n",
    "    print('[search udemy: search youtube]')\n",
    "    print('speak now')\n",
    "    \n",
    "# listen() takes value from the source i.e Microphone\n",
    "    audio = r3.listen(source)\n",
    "\n",
    "# now we will check our queries using the 7 APIs\n",
    "# recognize_google(audio) translates the audio into text\n",
    "if'udemy' in r2.recognize_google(audio):\n",
    "    r2 = sr.Recognizer()\n",
    "    url = 'https://www.udemy.com/courses/search/?src=ukw&q='\n",
    "\n",
    "# we will check also check for the query inside the url \n",
    "    with sr.Microphone() as source:\n",
    "        print('search your query')\n",
    "        audio = r2.listen(source)\n",
    "        \n",
    "        try:\n",
    "            get = r2.recognize_google(audio)    # foro getting the second query\n",
    "            print(get)\n",
    "            wb.get().open_new(url+get)    # it will open the url based on the old url\n",
    "        except sr.UnknownValueError:\n",
    "            print('error')\n",
    "        except sr.RequestError as e:\n",
    "            print('failed'.format(e))\n",
    "\n",
    "if'video' in r1.recognize_google(audio):\n",
    "    r1 = sr.Recognizer()\n",
    "    url = 'https://www.youtube.com/results?search_query='\n",
    "\n",
    "# we will check also check for the query inside the url \n",
    "    with sr.Microphone() as source:\n",
    "        print('search your query')\n",
    "        audio = r1.listen(source)\n",
    "        \n",
    "        try:\n",
    "            get = r1.recognize_google(audio)    # foro getting the second query\n",
    "            print(get)\n",
    "            wb.get().open_new(url+get)    # it will open the url based on the old url\n",
    "        except sr.UnknownValueError:\n",
    "            print('error')\n",
    "        except sr.RequestError as e:\n",
    "            print('failed'.format(e))            "
   ]
  },
  {
   "cell_type": "code",
   "execution_count": null,
   "metadata": {},
   "outputs": [],
   "source": []
  },
  {
   "cell_type": "code",
   "execution_count": null,
   "metadata": {},
   "outputs": [],
   "source": []
  }
 ],
 "metadata": {
  "kernelspec": {
   "display_name": "Python 3",
   "language": "python",
   "name": "python3"
  },
  "language_info": {
   "codemirror_mode": {
    "name": "ipython",
    "version": 3
   },
   "file_extension": ".py",
   "mimetype": "text/x-python",
   "name": "python",
   "nbconvert_exporter": "python",
   "pygments_lexer": "ipython3",
   "version": "3.7.3"
  }
 },
 "nbformat": 4,
 "nbformat_minor": 4
}
