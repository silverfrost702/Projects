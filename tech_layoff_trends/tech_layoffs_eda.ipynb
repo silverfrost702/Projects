{
 "cells": [
  {
   "cell_type": "markdown",
   "id": "31d43b2c",
   "metadata": {},
   "source": [
    "# Tech Layoff Trend Analysis (2020–2025) — EDA + Visualization\n",
    "\n",
    "This notebook analyzes tech layoffs across companies, industries, and countries. It includes a monthly timeline (Plotly), industry impact, correlation with funding, and a Top 10 companies dashboard."
   ]
  },
  {
   "cell_type": "code",
   "execution_count": 15,
   "id": "671f00ad",
   "metadata": {},
   "outputs": [],
   "source": [
    "# Optional: install dependencies if needed (uncomment to run)\n",
    "# %pip install pandas numpy plotly ipywidgets openpyxl pyarrow\n",
    "# from google.colab import output; output.enable_custom_widget_manager()  # if in Colab"
   ]
  },
  {
   "cell_type": "markdown",
   "id": "1a96b5dd",
   "metadata": {},
   "source": [
    "### Essential Checks for VSCode"
   ]
  },
  {
   "cell_type": "code",
   "execution_count": 16,
   "id": "96d69b6f",
   "metadata": {},
   "outputs": [
    {
     "name": "stdout",
     "output_type": "stream",
     "text": [
      "Kernel: c:\\Users\\anuva\\AppData\\Local\\Programs\\Python\\Python310\\python.exe \n",
      "Version: 3.10.11 (tags/v3.10.11:7d4cc5a, Apr  5 2023, 00:38:17) [MSC v.1929 64 bit (AMD64)]\n"
     ]
    },
    {
     "data": {
      "text/plain": [
       "0"
      ]
     },
     "execution_count": 16,
     "metadata": {},
     "output_type": "execute_result"
    }
   ],
   "source": [
    "import sys, subprocess\n",
    "print(\"Kernel:\", sys.executable, \"\\nVersion:\", sys.version)\n",
    "subprocess.check_call([sys.executable, \"-m\", \"pip\", \"install\", \"-U\", \"plotly>=5.17\", \"nbformat>=5.8\", \"ipywidgets\", \"kaleido\"])"
   ]
  },
  {
   "cell_type": "code",
   "execution_count": 17,
   "id": "861b9f05",
   "metadata": {},
   "outputs": [
    {
     "name": "stdout",
     "output_type": "stream",
     "text": [
      "Renderers configuration\n",
      "-----------------------\n",
      "    Default renderer: 'vscode'\n",
      "    Available renderers:\n",
      "        ['plotly_mimetype', 'jupyterlab', 'nteract', 'vscode',\n",
      "         'notebook', 'notebook_connected', 'kaggle', 'azure', 'colab',\n",
      "         'cocalc', 'databricks', 'json', 'png', 'jpeg', 'jpg', 'svg',\n",
      "         'pdf', 'browser', 'firefox', 'chrome', 'chromium', 'iframe',\n",
      "         'iframe_connected', 'sphinx_gallery', 'sphinx_gallery_png']\n",
      "\n"
     ]
    }
   ],
   "source": [
    "import plotly.io as pio\n",
    "print(pio.renderers)  # see what's available\n",
    "#pio.renderers.default = \"browser\"  # most reliable; opens charts in your web browser\n",
    "pio.renderers.default = \"vscode\"  # use only if 'vscode'"
   ]
  },
  {
   "cell_type": "code",
   "execution_count": 18,
   "id": "63e31d74",
   "metadata": {},
   "outputs": [
    {
     "name": "stdout",
     "output_type": "stream",
     "text": [
      "Requirement already satisfied: pip in c:\\users\\anuva\\appdata\\local\\programs\\python\\python310\\lib\\site-packages (25.2)Note: you may need to restart the kernel to use updated packages.\n",
      "c:\\Users\\anuva\\AppData\\Local\\Programs\\Python\\Python310\\python.exe\n",
      "3.10.11 (tags/v3.10.11:7d4cc5a, Apr  5 2023, 00:38:17) [MSC v.1929 64 bit (AMD64)]\n",
      "\n",
      "Requirement already satisfied: plotly in c:\\users\\anuva\\appdata\\local\\programs\\python\\python310\\lib\\site-packages (6.3.1)\n",
      "Requirement already satisfied: ipywidgets in c:\\users\\anuva\\appdata\\local\\programs\\python\\python310\\lib\\site-packages (8.1.7)\n",
      "Requirement already satisfied: narwhals>=1.15.1 in c:\\users\\anuva\\appdata\\local\\programs\\python\\python310\\lib\\site-packages (from plotly) (2.7.0)\n",
      "Requirement already satisfied: packaging in c:\\users\\anuva\\appdata\\roaming\\python\\python310\\site-packages (from plotly) (25.0)\n",
      "Requirement already satisfied: comm>=0.1.3 in c:\\users\\anuva\\appdata\\roaming\\python\\python310\\site-packages (from ipywidgets) (0.2.3)\n",
      "Requirement already satisfied: ipython>=6.1.0 in c:\\users\\anuva\\appdata\\roaming\\python\\python310\\site-packages (from ipywidgets) (8.37.0)\n",
      "Requirement already satisfied: traitlets>=4.3.1 in c:\\users\\anuva\\appdata\\roaming\\python\\python310\\site-packages (from ipywidgets) (5.14.3)\n",
      "Requirement already satisfied: widgetsnbextension~=4.0.14 in c:\\users\\anuva\\appdata\\local\\programs\\python\\python310\\lib\\site-packages (from ipywidgets) (4.0.14)\n",
      "Requirement already satisfied: jupyterlab_widgets~=3.0.15 in c:\\users\\anuva\\appdata\\local\\programs\\python\\python310\\lib\\site-packages (from ipywidgets) (3.0.15)\n",
      "Requirement already satisfied: colorama in c:\\users\\anuva\\appdata\\roaming\\python\\python310\\site-packages (from ipython>=6.1.0->ipywidgets) (0.4.6)\n",
      "Requirement already satisfied: decorator in c:\\users\\anuva\\appdata\\roaming\\python\\python310\\site-packages (from ipython>=6.1.0->ipywidgets) (5.2.1)\n",
      "Requirement already satisfied: exceptiongroup in c:\\users\\anuva\\appdata\\roaming\\python\\python310\\site-packages (from ipython>=6.1.0->ipywidgets) (1.3.0)\n",
      "Requirement already satisfied: jedi>=0.16 in c:\\users\\anuva\\appdata\\roaming\\python\\python310\\site-packages (from ipython>=6.1.0->ipywidgets) (0.19.2)\n",
      "Requirement already satisfied: matplotlib-inline in c:\\users\\anuva\\appdata\\roaming\\python\\python310\\site-packages (from ipython>=6.1.0->ipywidgets) (0.1.7)\n",
      "Requirement already satisfied: prompt_toolkit<3.1.0,>=3.0.41 in c:\\users\\anuva\\appdata\\roaming\\python\\python310\\site-packages (from ipython>=6.1.0->ipywidgets) (3.0.52)\n",
      "Requirement already satisfied: pygments>=2.4.0 in c:\\users\\anuva\\appdata\\roaming\\python\\python310\\site-packages (from ipython>=6.1.0->ipywidgets) (2.19.2)\n",
      "Requirement already satisfied: stack_data in c:\\users\\anuva\\appdata\\roaming\\python\\python310\\site-packages (from ipython>=6.1.0->ipywidgets) (0.6.3)\n",
      "Requirement already satisfied: typing_extensions>=4.6 in c:\\users\\anuva\\appdata\\roaming\\python\\python310\\site-packages (from ipython>=6.1.0->ipywidgets) (4.15.0)\n",
      "Requirement already satisfied: wcwidth in c:\\users\\anuva\\appdata\\roaming\\python\\python310\\site-packages (from prompt_toolkit<3.1.0,>=3.0.41->ipython>=6.1.0->ipywidgets) (0.2.13)\n",
      "Requirement already satisfied: parso<0.9.0,>=0.8.4 in c:\\users\\anuva\\appdata\\roaming\\python\\python310\\site-packages (from jedi>=0.16->ipython>=6.1.0->ipywidgets) (0.8.5)\n",
      "Requirement already satisfied: executing>=1.2.0 in c:\\users\\anuva\\appdata\\roaming\\python\\python310\\site-packages (from stack_data->ipython>=6.1.0->ipywidgets) (2.2.0)\n",
      "Requirement already satisfied: asttokens>=2.1.0 in c:\\users\\anuva\\appdata\\roaming\\python\\python310\\site-packages (from stack_data->ipython>=6.1.0->ipywidgets) (3.0.0)\n",
      "Requirement already satisfied: pure-eval in c:\\users\\anuva\\appdata\\roaming\\python\\python310\\site-packages (from stack_data->ipython>=6.1.0->ipywidgets) (0.2.3)\n"
     ]
    }
   ],
   "source": [
    "%pip install -U pip plotly ipywidgets\n",
    "import sys; print(sys.executable); print(sys.version)"
   ]
  },
  {
   "cell_type": "markdown",
   "id": "ae18cdec",
   "metadata": {},
   "source": [
    "### Libraries"
   ]
  },
  {
   "cell_type": "code",
   "execution_count": 19,
   "id": "44f9bd6c",
   "metadata": {},
   "outputs": [
    {
     "name": "stdout",
     "output_type": "stream",
     "text": [
      "pandas 2.3.2\n",
      "numpy 2.2.6\n",
      "plotly 6.3.1\n"
     ]
    }
   ],
   "source": [
    "import os, re, warnings\n",
    "from pathlib import Path\n",
    "from typing import List\n",
    "\n",
    "import numpy as np\n",
    "import pandas as pd\n",
    "import plotly.express as px\n",
    "import plotly.io as pio\n",
    "from IPython.display import display\n",
    "\n",
    "warnings.filterwarnings('ignore')\n",
    "pd.options.display.max_columns = 100\n",
    "pd.options.display.width = 120\n",
    "pio.templates.default = 'plotly_white'\n",
    "print('pandas', pd.__version__)\n",
    "print('numpy', np.__version__)\n",
    "import plotly; print('plotly', plotly.__version__)\n"
   ]
  },
  {
   "cell_type": "markdown",
   "id": "a074ce7a",
   "metadata": {},
   "source": [
    "## Locate the dataset\n",
    "Prefers a file in the repo root whose name contains 'layoff'. Set `DATASET_PATH` to override."
   ]
  },
  {
   "cell_type": "code",
   "execution_count": 20,
   "id": "0fa17add",
   "metadata": {},
   "outputs": [
    {
     "name": "stdout",
     "output_type": "stream",
     "text": [
      "Found 1 candidate file(s).\n",
      "1. C:\\Users\\anuva\\OneDrive\\Desktop\\Git\\Projects\\layoffs.csv\n"
     ]
    }
   ],
   "source": [
    "SEARCH_DIRS = [Path('.')]  # prefer root\n",
    "NAME_HINTS = ['layoff', 'layoffs', 'tech_layoff', 'layoffs_fyi']\n",
    "EXTS = ['.csv', '.parquet', '.xlsx', '.json']\n",
    "\n",
    "from typing import List\n",
    "def find_candidate_paths(max_results: int = 200) -> List[Path]:\n",
    "    candidates = []\n",
    "    for root in SEARCH_DIRS:\n",
    "        for hint in NAME_HINTS:\n",
    "            for ext in EXTS:\n",
    "                pattern = f'*{hint}*{ext}' if root == Path('.') else f'**/*{hint}*{ext}'\n",
    "                try:\n",
    "                    candidates.extend(root.glob(pattern))\n",
    "                except Exception:\n",
    "                    pass\n",
    "    uniq, seen = [], set()\n",
    "    for p in candidates:\n",
    "        try:\n",
    "            rp = p.resolve()\n",
    "        except Exception:\n",
    "            continue\n",
    "        if not rp.exists() or rp.suffix.lower() not in EXTS:\n",
    "            continue\n",
    "        s = str(rp)\n",
    "        if any(seg in s for seg in ['/.git/', '/node_modules/']):\n",
    "            continue\n",
    "        if rp not in seen:\n",
    "            uniq.append(rp); seen.add(rp)\n",
    "    def sort_key(p: Path):\n",
    "        suffix_rank = {'.csv':0,'.parquet':1,'.xlsx':2,'.json':3}.get(p.suffix.lower(),9)\n",
    "        try:\n",
    "            size = p.stat().st_size\n",
    "        except Exception:\n",
    "            size = 0\n",
    "        return (suffix_rank, -size, str(p))\n",
    "    uniq.sort(key=sort_key)\n",
    "    return uniq[:max_results]\n",
    "\n",
    "DATASET_PATH = os.environ.get('DATASET_PATH', '').strip()\n",
    "dataset_candidates: List[Path] = []\n",
    "if DATASET_PATH:\n",
    "    dataset_candidates = [Path(DATASET_PATH).resolve()]\n",
    "if not dataset_candidates:\n",
    "    dataset_candidates = find_candidate_paths()\n",
    "print(f'Found {len(dataset_candidates)} candidate file(s).')\n",
    "for i, p in enumerate(dataset_candidates[:20], 1):\n",
    "    print(f\"{i}. {p}\")\n",
    "if not dataset_candidates:\n",
    "    print('No dataset found automatically. Set DATASET_PATH, e.g.:')\n",
    "    print('  $env:DATASET_PATH = \\'..\\\\layoffs.csv\\'  (Windows PowerShell)')\n"
   ]
  },
  {
   "cell_type": "code",
   "execution_count": 21,
   "id": "60e18a46",
   "metadata": {},
   "outputs": [
    {
     "data": {
      "text/plain": [
       "WindowsPath('C:/Users/anuva/OneDrive/Desktop/Git/Projects/layoffs.csv')"
      ]
     },
     "execution_count": 21,
     "metadata": {},
     "output_type": "execute_result"
    }
   ],
   "source": [
    "if not dataset_candidates:\n",
    "    raise FileNotFoundError('No layoffs dataset found. Set DATASET_PATH or place layoffs*.csv in repo root.')\n",
    "dataset_file = dataset_candidates[0]\n",
    "dataset_file\n"
   ]
  },
  {
   "cell_type": "markdown",
   "id": "8158d151",
   "metadata": {},
   "source": [
    "## Load and clean"
   ]
  },
  {
   "cell_type": "code",
   "execution_count": 22,
   "id": "f8255197",
   "metadata": {},
   "outputs": [
    {
     "name": "stdout",
     "output_type": "stream",
     "text": [
      "Rows after cleaning: 4174\n"
     ]
    },
    {
     "data": {
      "text/html": [
       "<div>\n",
       "<style scoped>\n",
       "    .dataframe tbody tr th:only-of-type {\n",
       "        vertical-align: middle;\n",
       "    }\n",
       "\n",
       "    .dataframe tbody tr th {\n",
       "        vertical-align: top;\n",
       "    }\n",
       "\n",
       "    .dataframe thead th {\n",
       "        text-align: right;\n",
       "    }\n",
       "</style>\n",
       "<table border=\"1\" class=\"dataframe\">\n",
       "  <thead>\n",
       "    <tr style=\"text-align: right;\">\n",
       "      <th></th>\n",
       "      <th>company</th>\n",
       "      <th>location</th>\n",
       "      <th>total_laid_off</th>\n",
       "      <th>date</th>\n",
       "      <th>percentage_laid_off</th>\n",
       "      <th>industry</th>\n",
       "      <th>source</th>\n",
       "      <th>stage</th>\n",
       "      <th>funds_raised</th>\n",
       "      <th>country</th>\n",
       "      <th>date_added</th>\n",
       "      <th>funds_raised_millions</th>\n",
       "      <th>year</th>\n",
       "      <th>month_period</th>\n",
       "      <th>year_month</th>\n",
       "    </tr>\n",
       "  </thead>\n",
       "  <tbody>\n",
       "    <tr>\n",
       "      <th>0</th>\n",
       "      <td>Paycom</td>\n",
       "      <td>Oklahoma City</td>\n",
       "      <td>500.0</td>\n",
       "      <td>2025-10-01</td>\n",
       "      <td>NaN</td>\n",
       "      <td>HR</td>\n",
       "      <td>https://www.oklahoman.com/story/business/infor...</td>\n",
       "      <td>Post-IPO</td>\n",
       "      <td>NaN</td>\n",
       "      <td>United States</td>\n",
       "      <td>10/1/2025</td>\n",
       "      <td>NaN</td>\n",
       "      <td>2025</td>\n",
       "      <td>2025-10-01</td>\n",
       "      <td>2025-10</td>\n",
       "    </tr>\n",
       "    <tr>\n",
       "      <th>1</th>\n",
       "      <td>Simpl</td>\n",
       "      <td>Bengaluru,Non-U.S.</td>\n",
       "      <td>80.0</td>\n",
       "      <td>2025-10-01</td>\n",
       "      <td>NaN</td>\n",
       "      <td>Finance</td>\n",
       "      <td>https://inc42.com/buzz/bnpl-startup-simpl-lays...</td>\n",
       "      <td>Series B</td>\n",
       "      <td>$72</td>\n",
       "      <td>India</td>\n",
       "      <td>10/1/2025</td>\n",
       "      <td>NaN</td>\n",
       "      <td>2025</td>\n",
       "      <td>2025-10-01</td>\n",
       "      <td>2025-10</td>\n",
       "    </tr>\n",
       "    <tr>\n",
       "      <th>2</th>\n",
       "      <td>Just Eat</td>\n",
       "      <td>Amsterdam,Non-U.S.</td>\n",
       "      <td>450.0</td>\n",
       "      <td>2025-09-25</td>\n",
       "      <td>NaN</td>\n",
       "      <td>Food</td>\n",
       "      <td>https://www.reuters.com/business/world-at-work...</td>\n",
       "      <td>Acquired</td>\n",
       "      <td>$129</td>\n",
       "      <td>Netherlands</td>\n",
       "      <td>9/29/2025</td>\n",
       "      <td>NaN</td>\n",
       "      <td>2025</td>\n",
       "      <td>2025-09-01</td>\n",
       "      <td>2025-09</td>\n",
       "    </tr>\n",
       "    <tr>\n",
       "      <th>3</th>\n",
       "      <td>GamesKraft</td>\n",
       "      <td>Bengaluru,Non-U.S.</td>\n",
       "      <td>120.0</td>\n",
       "      <td>2025-09-18</td>\n",
       "      <td>NaN</td>\n",
       "      <td>Consumer</td>\n",
       "      <td>https://inc42.com/buzz/now-gameskraft-lays-off...</td>\n",
       "      <td>Unknown</td>\n",
       "      <td>NaN</td>\n",
       "      <td>India</td>\n",
       "      <td>9/25/2025</td>\n",
       "      <td>NaN</td>\n",
       "      <td>2025</td>\n",
       "      <td>2025-09-01</td>\n",
       "      <td>2025-09</td>\n",
       "    </tr>\n",
       "    <tr>\n",
       "      <th>4</th>\n",
       "      <td>ZipRecruiter</td>\n",
       "      <td>Tel Aviv,Non-U.S.</td>\n",
       "      <td>80.0</td>\n",
       "      <td>2025-09-16</td>\n",
       "      <td>NaN</td>\n",
       "      <td>Recruiting</td>\n",
       "      <td>https://www.calcalistech.com/ctechnews/article...</td>\n",
       "      <td>Post-IPO</td>\n",
       "      <td>$769</td>\n",
       "      <td>United States</td>\n",
       "      <td>9/16/2025</td>\n",
       "      <td>NaN</td>\n",
       "      <td>2025</td>\n",
       "      <td>2025-09-01</td>\n",
       "      <td>2025-09</td>\n",
       "    </tr>\n",
       "  </tbody>\n",
       "</table>\n",
       "</div>"
      ],
      "text/plain": [
       "        company            location  total_laid_off       date  percentage_laid_off    industry  \\\n",
       "0        Paycom       Oklahoma City           500.0 2025-10-01                  NaN          HR   \n",
       "1         Simpl  Bengaluru,Non-U.S.            80.0 2025-10-01                  NaN     Finance   \n",
       "2      Just Eat  Amsterdam,Non-U.S.           450.0 2025-09-25                  NaN        Food   \n",
       "3    GamesKraft  Bengaluru,Non-U.S.           120.0 2025-09-18                  NaN    Consumer   \n",
       "4  ZipRecruiter   Tel Aviv,Non-U.S.            80.0 2025-09-16                  NaN  Recruiting   \n",
       "\n",
       "                                              source     stage funds_raised        country date_added  \\\n",
       "0  https://www.oklahoman.com/story/business/infor...  Post-IPO          NaN  United States  10/1/2025   \n",
       "1  https://inc42.com/buzz/bnpl-startup-simpl-lays...  Series B          $72          India  10/1/2025   \n",
       "2  https://www.reuters.com/business/world-at-work...  Acquired         $129    Netherlands  9/29/2025   \n",
       "3  https://inc42.com/buzz/now-gameskraft-lays-off...   Unknown          NaN          India  9/25/2025   \n",
       "4  https://www.calcalistech.com/ctechnews/article...  Post-IPO         $769  United States  9/16/2025   \n",
       "\n",
       "   funds_raised_millions  year month_period year_month  \n",
       "0                    NaN  2025   2025-10-01    2025-10  \n",
       "1                    NaN  2025   2025-10-01    2025-10  \n",
       "2                    NaN  2025   2025-09-01    2025-09  \n",
       "3                    NaN  2025   2025-09-01    2025-09  \n",
       "4                    NaN  2025   2025-09-01    2025-09  "
      ]
     },
     "metadata": {},
     "output_type": "display_data"
    }
   ],
   "source": [
    "def coalesce_series(df: pd.DataFrame, cols, default=None) -> pd.Series:\n",
    "    for c in cols:\n",
    "        if c in df.columns:\n",
    "            s = df[c]\n",
    "            if s.notna().any():\n",
    "                return s\n",
    "    return pd.Series(default, index=df.index)\n",
    "\n",
    "def standardize_columns(df: pd.DataFrame) -> pd.DataFrame:\n",
    "    df = df.copy()\n",
    "    import re\n",
    "    df.columns = [re.sub(r'[^a-z0-9]+', '_', str(c).strip().lower()).strip('_') for c in df.columns]\n",
    "    return df\n",
    "\n",
    "def load_any(path: Path) -> pd.DataFrame:\n",
    "    suf = path.suffix.lower()\n",
    "    if suf == '.csv':\n",
    "        return pd.read_csv(path)\n",
    "    if suf == '.parquet':\n",
    "        return pd.read_parquet(path)\n",
    "    if suf == '.xlsx':\n",
    "        try:\n",
    "            return pd.read_excel(path, engine='openpyxl')\n",
    "        except Exception:\n",
    "            return pd.read_excel(path)\n",
    "    if suf == '.json':\n",
    "        try:\n",
    "            return pd.read_json(path, lines=True)\n",
    "        except ValueError:\n",
    "            return pd.read_json(path)\n",
    "    raise ValueError(f'Unsupported file type: {suf}')\n",
    "\n",
    "raw_df = load_any(dataset_file)\n",
    "df = standardize_columns(raw_df)\n",
    "\n",
    "df['company'] = coalesce_series(df, ['company','employer','organization']).astype('string').str.strip()\n",
    "df['industry'] = coalesce_series(df, ['industry','sector']).astype('string').str.strip()\n",
    "df['country'] = coalesce_series(df, ['country','location_country','hq_country','location']).astype('string')\n",
    "\n",
    "def infer_country(val):\n",
    "    if pd.isna(val):\n",
    "        return np.nan\n",
    "    s = str(val)\n",
    "    parts = [p.strip() for p in s.split(',') if p.strip()]\n",
    "    if len(parts) >= 1:\n",
    "        return parts[-1]\n",
    "    return s\n",
    "df['country'] = df['country'].map(infer_country)\n",
    "df['stage'] = coalesce_series(df, ['stage','funding_stage']).astype('string').str.strip()\n",
    "df['funds_raised_millions'] = pd.to_numeric(coalesce_series(df, ['funds_raised_millions','funds_raised_usd_millions','funds_raised_usd_m','raised','funds_millions']), errors='coerce')\n",
    "df['total_laid_off'] = pd.to_numeric(coalesce_series(df, ['total_laid_off','laid_off','num_laid_off','n_laid_off','number_laid_off']), errors='coerce')\n",
    "df['percentage_laid_off'] = pd.to_numeric(coalesce_series(df, ['percentage_laid_off','pct_laid_off','percent_laid_off']), errors='coerce')\n",
    "\n",
    "date_col = None\n",
    "for c in ['date','layoff_date','reported_date','announcement_date','month','event_date']:\n",
    "    if c in df.columns:\n",
    "        date_col = c\n",
    "        break\n",
    "if date_col is None:\n",
    "    raise ValueError('Could not find a date column among expected names.')\n",
    "\n",
    "df['date'] = pd.to_datetime(df[date_col], errors='coerce', utc=True).dt.tz_convert(None)\n",
    "if df['date'].isna().all() and pd.api.types.is_numeric_dtype(df[date_col]):\n",
    "    df['date'] = pd.to_datetime(df[date_col], unit='s', errors='coerce')\n",
    "\n",
    "df = df[(df['date'] >= '2020-01-01') & (df['date'] <= '2025-12-31')]\n",
    "df['year'] = df['date'].dt.year\n",
    "df['month_period'] = df['date'].dt.to_period('M').dt.to_timestamp()\n",
    "df['year_month'] = df['date'].dt.to_period('M').astype(str)\n",
    "df = df[df['total_laid_off'].fillna(0) >= 0]\n",
    "print('Rows after cleaning:', len(df))\n",
    "display(df.head(5))\n"
   ]
  },
  {
   "cell_type": "markdown",
   "id": "2c718ba0",
   "metadata": {},
   "source": [
    "## Aggregations"
   ]
  },
  {
   "cell_type": "code",
   "execution_count": 23,
   "id": "2c0e9aac",
   "metadata": {},
   "outputs": [
    {
     "data": {
      "text/html": [
       "<div>\n",
       "<style scoped>\n",
       "    .dataframe tbody tr th:only-of-type {\n",
       "        vertical-align: middle;\n",
       "    }\n",
       "\n",
       "    .dataframe tbody tr th {\n",
       "        vertical-align: top;\n",
       "    }\n",
       "\n",
       "    .dataframe thead th {\n",
       "        text-align: right;\n",
       "    }\n",
       "</style>\n",
       "<table border=\"1\" class=\"dataframe\">\n",
       "  <thead>\n",
       "    <tr style=\"text-align: right;\">\n",
       "      <th></th>\n",
       "      <th>company</th>\n",
       "      <th>total_laid_off</th>\n",
       "    </tr>\n",
       "  </thead>\n",
       "  <tbody>\n",
       "    <tr>\n",
       "      <th>1229</th>\n",
       "      <td>Intel</td>\n",
       "      <td>43115.0</td>\n",
       "    </tr>\n",
       "    <tr>\n",
       "      <th>1545</th>\n",
       "      <td>Microsoft</td>\n",
       "      <td>30055.0</td>\n",
       "    </tr>\n",
       "    <tr>\n",
       "      <th>99</th>\n",
       "      <td>Amazon</td>\n",
       "      <td>27940.0</td>\n",
       "    </tr>\n",
       "    <tr>\n",
       "      <th>1537</th>\n",
       "      <td>Meta</td>\n",
       "      <td>24700.0</td>\n",
       "    </tr>\n",
       "    <tr>\n",
       "      <th>2090</th>\n",
       "      <td>Salesforce</td>\n",
       "      <td>16525.0</td>\n",
       "    </tr>\n",
       "    <tr>\n",
       "      <th>503</th>\n",
       "      <td>Cisco</td>\n",
       "      <td>14521.0</td>\n",
       "    </tr>\n",
       "    <tr>\n",
       "      <th>2397</th>\n",
       "      <td>Tesla</td>\n",
       "      <td>14500.0</td>\n",
       "    </tr>\n",
       "    <tr>\n",
       "      <th>1036</th>\n",
       "      <td>Google</td>\n",
       "      <td>13547.0</td>\n",
       "    </tr>\n",
       "    <tr>\n",
       "      <th>699</th>\n",
       "      <td>Dell</td>\n",
       "      <td>12650.0</td>\n",
       "    </tr>\n",
       "    <tr>\n",
       "      <th>2068</th>\n",
       "      <td>SAP</td>\n",
       "      <td>11000.0</td>\n",
       "    </tr>\n",
       "  </tbody>\n",
       "</table>\n",
       "</div>"
      ],
      "text/plain": [
       "         company  total_laid_off\n",
       "1229       Intel         43115.0\n",
       "1545   Microsoft         30055.0\n",
       "99        Amazon         27940.0\n",
       "1537        Meta         24700.0\n",
       "2090  Salesforce         16525.0\n",
       "503        Cisco         14521.0\n",
       "2397       Tesla         14500.0\n",
       "1036      Google         13547.0\n",
       "699         Dell         12650.0\n",
       "2068         SAP         11000.0"
      ]
     },
     "metadata": {},
     "output_type": "display_data"
    },
    {
     "data": {
      "text/html": [
       "<div>\n",
       "<style scoped>\n",
       "    .dataframe tbody tr th:only-of-type {\n",
       "        vertical-align: middle;\n",
       "    }\n",
       "\n",
       "    .dataframe tbody tr th {\n",
       "        vertical-align: top;\n",
       "    }\n",
       "\n",
       "    .dataframe thead th {\n",
       "        text-align: right;\n",
       "    }\n",
       "</style>\n",
       "<table border=\"1\" class=\"dataframe\">\n",
       "  <thead>\n",
       "    <tr style=\"text-align: right;\">\n",
       "      <th></th>\n",
       "      <th>month_period</th>\n",
       "      <th>total_laid_off</th>\n",
       "    </tr>\n",
       "  </thead>\n",
       "  <tbody>\n",
       "    <tr>\n",
       "      <th>62</th>\n",
       "      <td>2025-05-01</td>\n",
       "      <td>10577.0</td>\n",
       "    </tr>\n",
       "    <tr>\n",
       "      <th>63</th>\n",
       "      <td>2025-06-01</td>\n",
       "      <td>1606.0</td>\n",
       "    </tr>\n",
       "    <tr>\n",
       "      <th>64</th>\n",
       "      <td>2025-07-01</td>\n",
       "      <td>16292.0</td>\n",
       "    </tr>\n",
       "    <tr>\n",
       "      <th>65</th>\n",
       "      <td>2025-08-01</td>\n",
       "      <td>6002.0</td>\n",
       "    </tr>\n",
       "    <tr>\n",
       "      <th>66</th>\n",
       "      <td>2025-09-01</td>\n",
       "      <td>4152.0</td>\n",
       "    </tr>\n",
       "    <tr>\n",
       "      <th>67</th>\n",
       "      <td>2025-10-01</td>\n",
       "      <td>580.0</td>\n",
       "    </tr>\n",
       "  </tbody>\n",
       "</table>\n",
       "</div>"
      ],
      "text/plain": [
       "   month_period  total_laid_off\n",
       "62   2025-05-01         10577.0\n",
       "63   2025-06-01          1606.0\n",
       "64   2025-07-01         16292.0\n",
       "65   2025-08-01          6002.0\n",
       "66   2025-09-01          4152.0\n",
       "67   2025-10-01           580.0"
      ]
     },
     "metadata": {},
     "output_type": "display_data"
    }
   ],
   "source": [
    "by_company = (\n",
    "    df.groupby(['company'], dropna=False, as_index=False)['total_laid_off']\n",
    "      .sum().sort_values('total_laid_off', ascending=False)\n",
    ")\n",
    "by_company_year = df.groupby(['company','year'], as_index=False)['total_laid_off'].sum()\n",
    "by_country_year = (\n",
    "    df.groupby(['country','year'], as_index=False)['total_laid_off']\n",
    "      .sum().sort_values(['year','total_laid_off'], ascending=[True, False])\n",
    ")\n",
    "by_industry_year = (\n",
    "    df.groupby(['industry','year'], as_index=False)['total_laid_off']\n",
    "      .sum().sort_values(['year','total_laid_off'], ascending=[True, False])\n",
    ")\n",
    "monthly = df.groupby('month_period', as_index=False)['total_laid_off'].sum().sort_values('month_period')\n",
    "display(by_company.head(10))\n",
    "display(monthly.tail(6))\n"
   ]
  },
  {
   "cell_type": "markdown",
   "id": "e47d7951",
   "metadata": {},
   "source": [
    "## Monthly trend"
   ]
  },
  {
   "cell_type": "code",
   "execution_count": 24,
   "id": "9ad46a92",
   "metadata": {},
   "outputs": [],
   "source": [
    "import plotly.io as pio\n",
    "pio.renderers.default = \"vscode\""
   ]
  },
  {
   "cell_type": "code",
   "execution_count": 25,
   "id": "940cb9e5",
   "metadata": {},
   "outputs": [
    {
     "data": {
      "application/vnd.plotly.v1+json": {
       "config": {
        "plotlyServerURL": "https://plot.ly"
       },
       "data": [
        {
         "hovertemplate": "month_period=%{x}<br>total_laid_off=%{y}<extra></extra>",
         "legendgroup": "",
         "line": {
          "color": "#636efa",
          "dash": "solid"
         },
         "marker": {
          "symbol": "circle"
         },
         "mode": "lines+markers",
         "name": "",
         "orientation": "v",
         "showlegend": false,
         "type": "scatter",
         "x": [
          "2020-03-01T00:00:00",
          "2020-04-01T00:00:00",
          "2020-05-01T00:00:00",
          "2020-06-01T00:00:00",
          "2020-07-01T00:00:00",
          "2020-08-01T00:00:00",
          "2020-09-01T00:00:00",
          "2020-10-01T00:00:00",
          "2020-11-01T00:00:00",
          "2020-12-01T00:00:00",
          "2021-01-01T00:00:00",
          "2021-02-01T00:00:00",
          "2021-03-01T00:00:00",
          "2021-04-01T00:00:00",
          "2021-05-01T00:00:00",
          "2021-06-01T00:00:00",
          "2021-07-01T00:00:00",
          "2021-08-01T00:00:00",
          "2021-09-01T00:00:00",
          "2021-10-01T00:00:00",
          "2021-11-01T00:00:00",
          "2021-12-01T00:00:00",
          "2022-01-01T00:00:00",
          "2022-02-01T00:00:00",
          "2022-03-01T00:00:00",
          "2022-04-01T00:00:00",
          "2022-05-01T00:00:00",
          "2022-06-01T00:00:00",
          "2022-07-01T00:00:00",
          "2022-08-01T00:00:00",
          "2022-09-01T00:00:00",
          "2022-10-01T00:00:00",
          "2022-11-01T00:00:00",
          "2022-12-01T00:00:00",
          "2023-01-01T00:00:00",
          "2023-02-01T00:00:00",
          "2023-03-01T00:00:00",
          "2023-04-01T00:00:00",
          "2023-05-01T00:00:00",
          "2023-06-01T00:00:00",
          "2023-07-01T00:00:00",
          "2023-08-01T00:00:00",
          "2023-09-01T00:00:00",
          "2023-10-01T00:00:00",
          "2023-11-01T00:00:00",
          "2023-12-01T00:00:00",
          "2024-01-01T00:00:00",
          "2024-02-01T00:00:00",
          "2024-03-01T00:00:00",
          "2024-04-01T00:00:00",
          "2024-05-01T00:00:00",
          "2024-06-01T00:00:00",
          "2024-07-01T00:00:00",
          "2024-08-01T00:00:00",
          "2024-09-01T00:00:00",
          "2024-10-01T00:00:00",
          "2024-11-01T00:00:00",
          "2024-12-01T00:00:00",
          "2025-01-01T00:00:00",
          "2025-02-01T00:00:00",
          "2025-03-01T00:00:00",
          "2025-04-01T00:00:00",
          "2025-05-01T00:00:00",
          "2025-06-01T00:00:00",
          "2025-07-01T00:00:00",
          "2025-08-01T00:00:00",
          "2025-09-01T00:00:00",
          "2025-10-01T00:00:00"
         ],
         "xaxis": "x",
         "y": {
          "bdata": "AAAAAADOwkAAAAAAgBXaQAAAAAAAM9lAAAAAAADLvUAAAAAAAMi7QAAAAAAAxJ5AAAAAAAAIg0AAAAAAACB8QAAAAAAAoG1AAAAAAACgikAAAAAAAJ26QAAAAAAAIItAAAAAAACAR0AAAAAAAFBwQAAAAAAAAAAAAAAAAAAEo0AAAAAAAABUQAAAAAAALJ1AAAAAAAAgZEAAAAAAAAA2QAAAAAAALKBAAAAAAADAkkAAAAAAAOB/QAAAAAAAyqxAAAAAAABStkAAAAAAACCwQAAAAACAXMlAAAAAAAC40UAAAAAAALfPQAAAAACAf8lAAAAAAAD5tkAAAAAAwC/UQAAAAABAK+pAAAAAAADUxEAAAAAA0Ob1QAAAAADAe+NAAAAAAGCJ4kAAAAAAAKHTQAAAAACAi81AAAAAAADjxUAAAAAAAOHEQAAAAAAA4cNAAAAAAABjskAAAAAAAIy/QAAAAACAWsBAAAAAAAD9v0AAAAAAIKvgQAAAAACAuM5AAAAAAADrvEAAAAAAwOXVQAAAAACAgcVAAAAAAICxw0AAAAAAgK3BQAAAAAAAVtlAAAAAAACIr0AAAAAAAIytQAAAAAAAY7pAAAAAAAAQpEAAAAAAAHijQAAAAAAAtc9AAAAAAABBwUAAAAAAQPjXQAAAAACAqMRAAAAAAAAYmUAAAAAAANLPQAAAAAAAcrdAAAAAAAA4sEAAAAAAACCCQA==",
          "dtype": "f8"
         },
         "yaxis": "y"
        }
       ],
       "layout": {
        "hovermode": "x unified",
        "legend": {
         "tracegroupgap": 0
        },
        "template": {
         "data": {
          "bar": [
           {
            "error_x": {
             "color": "#2a3f5f"
            },
            "error_y": {
             "color": "#2a3f5f"
            },
            "marker": {
             "line": {
              "color": "white",
              "width": 0.5
             },
             "pattern": {
              "fillmode": "overlay",
              "size": 10,
              "solidity": 0.2
             }
            },
            "type": "bar"
           }
          ],
          "barpolar": [
           {
            "marker": {
             "line": {
              "color": "white",
              "width": 0.5
             },
             "pattern": {
              "fillmode": "overlay",
              "size": 10,
              "solidity": 0.2
             }
            },
            "type": "barpolar"
           }
          ],
          "carpet": [
           {
            "aaxis": {
             "endlinecolor": "#2a3f5f",
             "gridcolor": "#C8D4E3",
             "linecolor": "#C8D4E3",
             "minorgridcolor": "#C8D4E3",
             "startlinecolor": "#2a3f5f"
            },
            "baxis": {
             "endlinecolor": "#2a3f5f",
             "gridcolor": "#C8D4E3",
             "linecolor": "#C8D4E3",
             "minorgridcolor": "#C8D4E3",
             "startlinecolor": "#2a3f5f"
            },
            "type": "carpet"
           }
          ],
          "choropleth": [
           {
            "colorbar": {
             "outlinewidth": 0,
             "ticks": ""
            },
            "type": "choropleth"
           }
          ],
          "contour": [
           {
            "colorbar": {
             "outlinewidth": 0,
             "ticks": ""
            },
            "colorscale": [
             [
              0,
              "#0d0887"
             ],
             [
              0.1111111111111111,
              "#46039f"
             ],
             [
              0.2222222222222222,
              "#7201a8"
             ],
             [
              0.3333333333333333,
              "#9c179e"
             ],
             [
              0.4444444444444444,
              "#bd3786"
             ],
             [
              0.5555555555555556,
              "#d8576b"
             ],
             [
              0.6666666666666666,
              "#ed7953"
             ],
             [
              0.7777777777777778,
              "#fb9f3a"
             ],
             [
              0.8888888888888888,
              "#fdca26"
             ],
             [
              1,
              "#f0f921"
             ]
            ],
            "type": "contour"
           }
          ],
          "contourcarpet": [
           {
            "colorbar": {
             "outlinewidth": 0,
             "ticks": ""
            },
            "type": "contourcarpet"
           }
          ],
          "heatmap": [
           {
            "colorbar": {
             "outlinewidth": 0,
             "ticks": ""
            },
            "colorscale": [
             [
              0,
              "#0d0887"
             ],
             [
              0.1111111111111111,
              "#46039f"
             ],
             [
              0.2222222222222222,
              "#7201a8"
             ],
             [
              0.3333333333333333,
              "#9c179e"
             ],
             [
              0.4444444444444444,
              "#bd3786"
             ],
             [
              0.5555555555555556,
              "#d8576b"
             ],
             [
              0.6666666666666666,
              "#ed7953"
             ],
             [
              0.7777777777777778,
              "#fb9f3a"
             ],
             [
              0.8888888888888888,
              "#fdca26"
             ],
             [
              1,
              "#f0f921"
             ]
            ],
            "type": "heatmap"
           }
          ],
          "histogram": [
           {
            "marker": {
             "pattern": {
              "fillmode": "overlay",
              "size": 10,
              "solidity": 0.2
             }
            },
            "type": "histogram"
           }
          ],
          "histogram2d": [
           {
            "colorbar": {
             "outlinewidth": 0,
             "ticks": ""
            },
            "colorscale": [
             [
              0,
              "#0d0887"
             ],
             [
              0.1111111111111111,
              "#46039f"
             ],
             [
              0.2222222222222222,
              "#7201a8"
             ],
             [
              0.3333333333333333,
              "#9c179e"
             ],
             [
              0.4444444444444444,
              "#bd3786"
             ],
             [
              0.5555555555555556,
              "#d8576b"
             ],
             [
              0.6666666666666666,
              "#ed7953"
             ],
             [
              0.7777777777777778,
              "#fb9f3a"
             ],
             [
              0.8888888888888888,
              "#fdca26"
             ],
             [
              1,
              "#f0f921"
             ]
            ],
            "type": "histogram2d"
           }
          ],
          "histogram2dcontour": [
           {
            "colorbar": {
             "outlinewidth": 0,
             "ticks": ""
            },
            "colorscale": [
             [
              0,
              "#0d0887"
             ],
             [
              0.1111111111111111,
              "#46039f"
             ],
             [
              0.2222222222222222,
              "#7201a8"
             ],
             [
              0.3333333333333333,
              "#9c179e"
             ],
             [
              0.4444444444444444,
              "#bd3786"
             ],
             [
              0.5555555555555556,
              "#d8576b"
             ],
             [
              0.6666666666666666,
              "#ed7953"
             ],
             [
              0.7777777777777778,
              "#fb9f3a"
             ],
             [
              0.8888888888888888,
              "#fdca26"
             ],
             [
              1,
              "#f0f921"
             ]
            ],
            "type": "histogram2dcontour"
           }
          ],
          "mesh3d": [
           {
            "colorbar": {
             "outlinewidth": 0,
             "ticks": ""
            },
            "type": "mesh3d"
           }
          ],
          "parcoords": [
           {
            "line": {
             "colorbar": {
              "outlinewidth": 0,
              "ticks": ""
             }
            },
            "type": "parcoords"
           }
          ],
          "pie": [
           {
            "automargin": true,
            "type": "pie"
           }
          ],
          "scatter": [
           {
            "fillpattern": {
             "fillmode": "overlay",
             "size": 10,
             "solidity": 0.2
            },
            "type": "scatter"
           }
          ],
          "scatter3d": [
           {
            "line": {
             "colorbar": {
              "outlinewidth": 0,
              "ticks": ""
             }
            },
            "marker": {
             "colorbar": {
              "outlinewidth": 0,
              "ticks": ""
             }
            },
            "type": "scatter3d"
           }
          ],
          "scattercarpet": [
           {
            "marker": {
             "colorbar": {
              "outlinewidth": 0,
              "ticks": ""
             }
            },
            "type": "scattercarpet"
           }
          ],
          "scattergeo": [
           {
            "marker": {
             "colorbar": {
              "outlinewidth": 0,
              "ticks": ""
             }
            },
            "type": "scattergeo"
           }
          ],
          "scattergl": [
           {
            "marker": {
             "colorbar": {
              "outlinewidth": 0,
              "ticks": ""
             }
            },
            "type": "scattergl"
           }
          ],
          "scattermap": [
           {
            "marker": {
             "colorbar": {
              "outlinewidth": 0,
              "ticks": ""
             }
            },
            "type": "scattermap"
           }
          ],
          "scattermapbox": [
           {
            "marker": {
             "colorbar": {
              "outlinewidth": 0,
              "ticks": ""
             }
            },
            "type": "scattermapbox"
           }
          ],
          "scatterpolar": [
           {
            "marker": {
             "colorbar": {
              "outlinewidth": 0,
              "ticks": ""
             }
            },
            "type": "scatterpolar"
           }
          ],
          "scatterpolargl": [
           {
            "marker": {
             "colorbar": {
              "outlinewidth": 0,
              "ticks": ""
             }
            },
            "type": "scatterpolargl"
           }
          ],
          "scatterternary": [
           {
            "marker": {
             "colorbar": {
              "outlinewidth": 0,
              "ticks": ""
             }
            },
            "type": "scatterternary"
           }
          ],
          "surface": [
           {
            "colorbar": {
             "outlinewidth": 0,
             "ticks": ""
            },
            "colorscale": [
             [
              0,
              "#0d0887"
             ],
             [
              0.1111111111111111,
              "#46039f"
             ],
             [
              0.2222222222222222,
              "#7201a8"
             ],
             [
              0.3333333333333333,
              "#9c179e"
             ],
             [
              0.4444444444444444,
              "#bd3786"
             ],
             [
              0.5555555555555556,
              "#d8576b"
             ],
             [
              0.6666666666666666,
              "#ed7953"
             ],
             [
              0.7777777777777778,
              "#fb9f3a"
             ],
             [
              0.8888888888888888,
              "#fdca26"
             ],
             [
              1,
              "#f0f921"
             ]
            ],
            "type": "surface"
           }
          ],
          "table": [
           {
            "cells": {
             "fill": {
              "color": "#EBF0F8"
             },
             "line": {
              "color": "white"
             }
            },
            "header": {
             "fill": {
              "color": "#C8D4E3"
             },
             "line": {
              "color": "white"
             }
            },
            "type": "table"
           }
          ]
         },
         "layout": {
          "annotationdefaults": {
           "arrowcolor": "#2a3f5f",
           "arrowhead": 0,
           "arrowwidth": 1
          },
          "autotypenumbers": "strict",
          "coloraxis": {
           "colorbar": {
            "outlinewidth": 0,
            "ticks": ""
           }
          },
          "colorscale": {
           "diverging": [
            [
             0,
             "#8e0152"
            ],
            [
             0.1,
             "#c51b7d"
            ],
            [
             0.2,
             "#de77ae"
            ],
            [
             0.3,
             "#f1b6da"
            ],
            [
             0.4,
             "#fde0ef"
            ],
            [
             0.5,
             "#f7f7f7"
            ],
            [
             0.6,
             "#e6f5d0"
            ],
            [
             0.7,
             "#b8e186"
            ],
            [
             0.8,
             "#7fbc41"
            ],
            [
             0.9,
             "#4d9221"
            ],
            [
             1,
             "#276419"
            ]
           ],
           "sequential": [
            [
             0,
             "#0d0887"
            ],
            [
             0.1111111111111111,
             "#46039f"
            ],
            [
             0.2222222222222222,
             "#7201a8"
            ],
            [
             0.3333333333333333,
             "#9c179e"
            ],
            [
             0.4444444444444444,
             "#bd3786"
            ],
            [
             0.5555555555555556,
             "#d8576b"
            ],
            [
             0.6666666666666666,
             "#ed7953"
            ],
            [
             0.7777777777777778,
             "#fb9f3a"
            ],
            [
             0.8888888888888888,
             "#fdca26"
            ],
            [
             1,
             "#f0f921"
            ]
           ],
           "sequentialminus": [
            [
             0,
             "#0d0887"
            ],
            [
             0.1111111111111111,
             "#46039f"
            ],
            [
             0.2222222222222222,
             "#7201a8"
            ],
            [
             0.3333333333333333,
             "#9c179e"
            ],
            [
             0.4444444444444444,
             "#bd3786"
            ],
            [
             0.5555555555555556,
             "#d8576b"
            ],
            [
             0.6666666666666666,
             "#ed7953"
            ],
            [
             0.7777777777777778,
             "#fb9f3a"
            ],
            [
             0.8888888888888888,
             "#fdca26"
            ],
            [
             1,
             "#f0f921"
            ]
           ]
          },
          "colorway": [
           "#636efa",
           "#EF553B",
           "#00cc96",
           "#ab63fa",
           "#FFA15A",
           "#19d3f3",
           "#FF6692",
           "#B6E880",
           "#FF97FF",
           "#FECB52"
          ],
          "font": {
           "color": "#2a3f5f"
          },
          "geo": {
           "bgcolor": "white",
           "lakecolor": "white",
           "landcolor": "white",
           "showlakes": true,
           "showland": true,
           "subunitcolor": "#C8D4E3"
          },
          "hoverlabel": {
           "align": "left"
          },
          "hovermode": "closest",
          "mapbox": {
           "style": "light"
          },
          "paper_bgcolor": "white",
          "plot_bgcolor": "white",
          "polar": {
           "angularaxis": {
            "gridcolor": "#EBF0F8",
            "linecolor": "#EBF0F8",
            "ticks": ""
           },
           "bgcolor": "white",
           "radialaxis": {
            "gridcolor": "#EBF0F8",
            "linecolor": "#EBF0F8",
            "ticks": ""
           }
          },
          "scene": {
           "xaxis": {
            "backgroundcolor": "white",
            "gridcolor": "#DFE8F3",
            "gridwidth": 2,
            "linecolor": "#EBF0F8",
            "showbackground": true,
            "ticks": "",
            "zerolinecolor": "#EBF0F8"
           },
           "yaxis": {
            "backgroundcolor": "white",
            "gridcolor": "#DFE8F3",
            "gridwidth": 2,
            "linecolor": "#EBF0F8",
            "showbackground": true,
            "ticks": "",
            "zerolinecolor": "#EBF0F8"
           },
           "zaxis": {
            "backgroundcolor": "white",
            "gridcolor": "#DFE8F3",
            "gridwidth": 2,
            "linecolor": "#EBF0F8",
            "showbackground": true,
            "ticks": "",
            "zerolinecolor": "#EBF0F8"
           }
          },
          "shapedefaults": {
           "line": {
            "color": "#2a3f5f"
           }
          },
          "ternary": {
           "aaxis": {
            "gridcolor": "#DFE8F3",
            "linecolor": "#A2B1C6",
            "ticks": ""
           },
           "baxis": {
            "gridcolor": "#DFE8F3",
            "linecolor": "#A2B1C6",
            "ticks": ""
           },
           "bgcolor": "white",
           "caxis": {
            "gridcolor": "#DFE8F3",
            "linecolor": "#A2B1C6",
            "ticks": ""
           }
          },
          "title": {
           "x": 0.05
          },
          "xaxis": {
           "automargin": true,
           "gridcolor": "#EBF0F8",
           "linecolor": "#EBF0F8",
           "ticks": "",
           "title": {
            "standoff": 15
           },
           "zerolinecolor": "#EBF0F8",
           "zerolinewidth": 2
          },
          "yaxis": {
           "automargin": true,
           "gridcolor": "#EBF0F8",
           "linecolor": "#EBF0F8",
           "ticks": "",
           "title": {
            "standoff": 15
           },
           "zerolinecolor": "#EBF0F8",
           "zerolinewidth": 2
          }
         }
        },
        "title": {
         "text": "Monthly Tech Layoffs (2020–2025)"
        },
        "xaxis": {
         "anchor": "y",
         "domain": [
          0,
          1
         ],
         "title": {
          "text": "Month"
         }
        },
        "yaxis": {
         "anchor": "x",
         "domain": [
          0,
          1
         ],
         "title": {
          "text": "Total Laid Off"
         }
        }
       }
      }
     },
     "metadata": {},
     "output_type": "display_data"
    }
   ],
   "source": [
    "fig_timeline = px.line(\n",
    "    monthly, x='month_period', y='total_laid_off', title='Monthly Tech Layoffs (2020–2025)', markers=True\n",
    ")\n",
    "fig_timeline.update_layout(yaxis_title='Total Laid Off', xaxis_title='Month', hovermode='x unified')\n",
    "fig_timeline.show()\n"
   ]
  },
  {
   "cell_type": "markdown",
   "id": "5df3c278",
   "metadata": {},
   "source": [
    "## Industry impact"
   ]
  },
  {
   "cell_type": "code",
   "execution_count": 26,
   "id": "766bf652",
   "metadata": {},
   "outputs": [
    {
     "data": {
      "application/vnd.plotly.v1+json": {
       "config": {
        "plotlyServerURL": "https://plot.ly"
       },
       "data": [
        {
         "hovertemplate": "industry=%{x}<br>total_laid_off=%{text}<extra></extra>",
         "legendgroup": "",
         "marker": {
          "color": "#636efa",
          "pattern": {
           "shape": ""
          }
         },
         "name": "",
         "orientation": "v",
         "showlegend": false,
         "text": {
          "bdata": "AAAAAAAg9UAAAAAAkDb0QAAAAABAMPNAAAAAAJD/8UAAAAAAQGHvQAAAAADAlelAAAAAAMB66EAAAAAAIPPiQAAAAACA0tZAAAAAAMCR1EAAAAAAwFjUQAAAAADA4dNAAAAAAIDF00AAAAAAADfMQAAAAACACcxAAAAAAADby0AAAAAAAM/JQAAAAACAmcZAAAAAAAAWxkAAAAAAgDjDQA==",
          "dtype": "f8"
         },
         "textposition": "outside",
         "texttemplate": "%{text:.0f}",
         "type": "bar",
         "x": [
          "Hardware",
          "Other",
          "Consumer",
          "Retail",
          "Transportation",
          "Finance",
          "Food",
          "Healthcare",
          "Travel",
          "Sales",
          "Infrastructure",
          "Education",
          "Real Estate",
          "Crypto",
          "Marketing",
          "HR",
          "Data",
          "Security",
          "Media",
          "Fitness"
         ],
         "xaxis": "x",
         "y": {
          "bdata": "AAAAAAAg9UAAAAAAkDb0QAAAAABAMPNAAAAAAJD/8UAAAAAAQGHvQAAAAADAlelAAAAAAMB66EAAAAAAIPPiQAAAAACA0tZAAAAAAMCR1EAAAAAAwFjUQAAAAADA4dNAAAAAAIDF00AAAAAAADfMQAAAAACACcxAAAAAAADby0AAAAAAAM/JQAAAAACAmcZAAAAAAAAWxkAAAAAAgDjDQA==",
          "dtype": "f8"
         },
         "yaxis": "y"
        }
       ],
       "layout": {
        "barmode": "relative",
        "legend": {
         "tracegroupgap": 0
        },
        "template": {
         "data": {
          "bar": [
           {
            "error_x": {
             "color": "#2a3f5f"
            },
            "error_y": {
             "color": "#2a3f5f"
            },
            "marker": {
             "line": {
              "color": "white",
              "width": 0.5
             },
             "pattern": {
              "fillmode": "overlay",
              "size": 10,
              "solidity": 0.2
             }
            },
            "type": "bar"
           }
          ],
          "barpolar": [
           {
            "marker": {
             "line": {
              "color": "white",
              "width": 0.5
             },
             "pattern": {
              "fillmode": "overlay",
              "size": 10,
              "solidity": 0.2
             }
            },
            "type": "barpolar"
           }
          ],
          "carpet": [
           {
            "aaxis": {
             "endlinecolor": "#2a3f5f",
             "gridcolor": "#C8D4E3",
             "linecolor": "#C8D4E3",
             "minorgridcolor": "#C8D4E3",
             "startlinecolor": "#2a3f5f"
            },
            "baxis": {
             "endlinecolor": "#2a3f5f",
             "gridcolor": "#C8D4E3",
             "linecolor": "#C8D4E3",
             "minorgridcolor": "#C8D4E3",
             "startlinecolor": "#2a3f5f"
            },
            "type": "carpet"
           }
          ],
          "choropleth": [
           {
            "colorbar": {
             "outlinewidth": 0,
             "ticks": ""
            },
            "type": "choropleth"
           }
          ],
          "contour": [
           {
            "colorbar": {
             "outlinewidth": 0,
             "ticks": ""
            },
            "colorscale": [
             [
              0,
              "#0d0887"
             ],
             [
              0.1111111111111111,
              "#46039f"
             ],
             [
              0.2222222222222222,
              "#7201a8"
             ],
             [
              0.3333333333333333,
              "#9c179e"
             ],
             [
              0.4444444444444444,
              "#bd3786"
             ],
             [
              0.5555555555555556,
              "#d8576b"
             ],
             [
              0.6666666666666666,
              "#ed7953"
             ],
             [
              0.7777777777777778,
              "#fb9f3a"
             ],
             [
              0.8888888888888888,
              "#fdca26"
             ],
             [
              1,
              "#f0f921"
             ]
            ],
            "type": "contour"
           }
          ],
          "contourcarpet": [
           {
            "colorbar": {
             "outlinewidth": 0,
             "ticks": ""
            },
            "type": "contourcarpet"
           }
          ],
          "heatmap": [
           {
            "colorbar": {
             "outlinewidth": 0,
             "ticks": ""
            },
            "colorscale": [
             [
              0,
              "#0d0887"
             ],
             [
              0.1111111111111111,
              "#46039f"
             ],
             [
              0.2222222222222222,
              "#7201a8"
             ],
             [
              0.3333333333333333,
              "#9c179e"
             ],
             [
              0.4444444444444444,
              "#bd3786"
             ],
             [
              0.5555555555555556,
              "#d8576b"
             ],
             [
              0.6666666666666666,
              "#ed7953"
             ],
             [
              0.7777777777777778,
              "#fb9f3a"
             ],
             [
              0.8888888888888888,
              "#fdca26"
             ],
             [
              1,
              "#f0f921"
             ]
            ],
            "type": "heatmap"
           }
          ],
          "histogram": [
           {
            "marker": {
             "pattern": {
              "fillmode": "overlay",
              "size": 10,
              "solidity": 0.2
             }
            },
            "type": "histogram"
           }
          ],
          "histogram2d": [
           {
            "colorbar": {
             "outlinewidth": 0,
             "ticks": ""
            },
            "colorscale": [
             [
              0,
              "#0d0887"
             ],
             [
              0.1111111111111111,
              "#46039f"
             ],
             [
              0.2222222222222222,
              "#7201a8"
             ],
             [
              0.3333333333333333,
              "#9c179e"
             ],
             [
              0.4444444444444444,
              "#bd3786"
             ],
             [
              0.5555555555555556,
              "#d8576b"
             ],
             [
              0.6666666666666666,
              "#ed7953"
             ],
             [
              0.7777777777777778,
              "#fb9f3a"
             ],
             [
              0.8888888888888888,
              "#fdca26"
             ],
             [
              1,
              "#f0f921"
             ]
            ],
            "type": "histogram2d"
           }
          ],
          "histogram2dcontour": [
           {
            "colorbar": {
             "outlinewidth": 0,
             "ticks": ""
            },
            "colorscale": [
             [
              0,
              "#0d0887"
             ],
             [
              0.1111111111111111,
              "#46039f"
             ],
             [
              0.2222222222222222,
              "#7201a8"
             ],
             [
              0.3333333333333333,
              "#9c179e"
             ],
             [
              0.4444444444444444,
              "#bd3786"
             ],
             [
              0.5555555555555556,
              "#d8576b"
             ],
             [
              0.6666666666666666,
              "#ed7953"
             ],
             [
              0.7777777777777778,
              "#fb9f3a"
             ],
             [
              0.8888888888888888,
              "#fdca26"
             ],
             [
              1,
              "#f0f921"
             ]
            ],
            "type": "histogram2dcontour"
           }
          ],
          "mesh3d": [
           {
            "colorbar": {
             "outlinewidth": 0,
             "ticks": ""
            },
            "type": "mesh3d"
           }
          ],
          "parcoords": [
           {
            "line": {
             "colorbar": {
              "outlinewidth": 0,
              "ticks": ""
             }
            },
            "type": "parcoords"
           }
          ],
          "pie": [
           {
            "automargin": true,
            "type": "pie"
           }
          ],
          "scatter": [
           {
            "fillpattern": {
             "fillmode": "overlay",
             "size": 10,
             "solidity": 0.2
            },
            "type": "scatter"
           }
          ],
          "scatter3d": [
           {
            "line": {
             "colorbar": {
              "outlinewidth": 0,
              "ticks": ""
             }
            },
            "marker": {
             "colorbar": {
              "outlinewidth": 0,
              "ticks": ""
             }
            },
            "type": "scatter3d"
           }
          ],
          "scattercarpet": [
           {
            "marker": {
             "colorbar": {
              "outlinewidth": 0,
              "ticks": ""
             }
            },
            "type": "scattercarpet"
           }
          ],
          "scattergeo": [
           {
            "marker": {
             "colorbar": {
              "outlinewidth": 0,
              "ticks": ""
             }
            },
            "type": "scattergeo"
           }
          ],
          "scattergl": [
           {
            "marker": {
             "colorbar": {
              "outlinewidth": 0,
              "ticks": ""
             }
            },
            "type": "scattergl"
           }
          ],
          "scattermap": [
           {
            "marker": {
             "colorbar": {
              "outlinewidth": 0,
              "ticks": ""
             }
            },
            "type": "scattermap"
           }
          ],
          "scattermapbox": [
           {
            "marker": {
             "colorbar": {
              "outlinewidth": 0,
              "ticks": ""
             }
            },
            "type": "scattermapbox"
           }
          ],
          "scatterpolar": [
           {
            "marker": {
             "colorbar": {
              "outlinewidth": 0,
              "ticks": ""
             }
            },
            "type": "scatterpolar"
           }
          ],
          "scatterpolargl": [
           {
            "marker": {
             "colorbar": {
              "outlinewidth": 0,
              "ticks": ""
             }
            },
            "type": "scatterpolargl"
           }
          ],
          "scatterternary": [
           {
            "marker": {
             "colorbar": {
              "outlinewidth": 0,
              "ticks": ""
             }
            },
            "type": "scatterternary"
           }
          ],
          "surface": [
           {
            "colorbar": {
             "outlinewidth": 0,
             "ticks": ""
            },
            "colorscale": [
             [
              0,
              "#0d0887"
             ],
             [
              0.1111111111111111,
              "#46039f"
             ],
             [
              0.2222222222222222,
              "#7201a8"
             ],
             [
              0.3333333333333333,
              "#9c179e"
             ],
             [
              0.4444444444444444,
              "#bd3786"
             ],
             [
              0.5555555555555556,
              "#d8576b"
             ],
             [
              0.6666666666666666,
              "#ed7953"
             ],
             [
              0.7777777777777778,
              "#fb9f3a"
             ],
             [
              0.8888888888888888,
              "#fdca26"
             ],
             [
              1,
              "#f0f921"
             ]
            ],
            "type": "surface"
           }
          ],
          "table": [
           {
            "cells": {
             "fill": {
              "color": "#EBF0F8"
             },
             "line": {
              "color": "white"
             }
            },
            "header": {
             "fill": {
              "color": "#C8D4E3"
             },
             "line": {
              "color": "white"
             }
            },
            "type": "table"
           }
          ]
         },
         "layout": {
          "annotationdefaults": {
           "arrowcolor": "#2a3f5f",
           "arrowhead": 0,
           "arrowwidth": 1
          },
          "autotypenumbers": "strict",
          "coloraxis": {
           "colorbar": {
            "outlinewidth": 0,
            "ticks": ""
           }
          },
          "colorscale": {
           "diverging": [
            [
             0,
             "#8e0152"
            ],
            [
             0.1,
             "#c51b7d"
            ],
            [
             0.2,
             "#de77ae"
            ],
            [
             0.3,
             "#f1b6da"
            ],
            [
             0.4,
             "#fde0ef"
            ],
            [
             0.5,
             "#f7f7f7"
            ],
            [
             0.6,
             "#e6f5d0"
            ],
            [
             0.7,
             "#b8e186"
            ],
            [
             0.8,
             "#7fbc41"
            ],
            [
             0.9,
             "#4d9221"
            ],
            [
             1,
             "#276419"
            ]
           ],
           "sequential": [
            [
             0,
             "#0d0887"
            ],
            [
             0.1111111111111111,
             "#46039f"
            ],
            [
             0.2222222222222222,
             "#7201a8"
            ],
            [
             0.3333333333333333,
             "#9c179e"
            ],
            [
             0.4444444444444444,
             "#bd3786"
            ],
            [
             0.5555555555555556,
             "#d8576b"
            ],
            [
             0.6666666666666666,
             "#ed7953"
            ],
            [
             0.7777777777777778,
             "#fb9f3a"
            ],
            [
             0.8888888888888888,
             "#fdca26"
            ],
            [
             1,
             "#f0f921"
            ]
           ],
           "sequentialminus": [
            [
             0,
             "#0d0887"
            ],
            [
             0.1111111111111111,
             "#46039f"
            ],
            [
             0.2222222222222222,
             "#7201a8"
            ],
            [
             0.3333333333333333,
             "#9c179e"
            ],
            [
             0.4444444444444444,
             "#bd3786"
            ],
            [
             0.5555555555555556,
             "#d8576b"
            ],
            [
             0.6666666666666666,
             "#ed7953"
            ],
            [
             0.7777777777777778,
             "#fb9f3a"
            ],
            [
             0.8888888888888888,
             "#fdca26"
            ],
            [
             1,
             "#f0f921"
            ]
           ]
          },
          "colorway": [
           "#636efa",
           "#EF553B",
           "#00cc96",
           "#ab63fa",
           "#FFA15A",
           "#19d3f3",
           "#FF6692",
           "#B6E880",
           "#FF97FF",
           "#FECB52"
          ],
          "font": {
           "color": "#2a3f5f"
          },
          "geo": {
           "bgcolor": "white",
           "lakecolor": "white",
           "landcolor": "white",
           "showlakes": true,
           "showland": true,
           "subunitcolor": "#C8D4E3"
          },
          "hoverlabel": {
           "align": "left"
          },
          "hovermode": "closest",
          "mapbox": {
           "style": "light"
          },
          "paper_bgcolor": "white",
          "plot_bgcolor": "white",
          "polar": {
           "angularaxis": {
            "gridcolor": "#EBF0F8",
            "linecolor": "#EBF0F8",
            "ticks": ""
           },
           "bgcolor": "white",
           "radialaxis": {
            "gridcolor": "#EBF0F8",
            "linecolor": "#EBF0F8",
            "ticks": ""
           }
          },
          "scene": {
           "xaxis": {
            "backgroundcolor": "white",
            "gridcolor": "#DFE8F3",
            "gridwidth": 2,
            "linecolor": "#EBF0F8",
            "showbackground": true,
            "ticks": "",
            "zerolinecolor": "#EBF0F8"
           },
           "yaxis": {
            "backgroundcolor": "white",
            "gridcolor": "#DFE8F3",
            "gridwidth": 2,
            "linecolor": "#EBF0F8",
            "showbackground": true,
            "ticks": "",
            "zerolinecolor": "#EBF0F8"
           },
           "zaxis": {
            "backgroundcolor": "white",
            "gridcolor": "#DFE8F3",
            "gridwidth": 2,
            "linecolor": "#EBF0F8",
            "showbackground": true,
            "ticks": "",
            "zerolinecolor": "#EBF0F8"
           }
          },
          "shapedefaults": {
           "line": {
            "color": "#2a3f5f"
           }
          },
          "ternary": {
           "aaxis": {
            "gridcolor": "#DFE8F3",
            "linecolor": "#A2B1C6",
            "ticks": ""
           },
           "baxis": {
            "gridcolor": "#DFE8F3",
            "linecolor": "#A2B1C6",
            "ticks": ""
           },
           "bgcolor": "white",
           "caxis": {
            "gridcolor": "#DFE8F3",
            "linecolor": "#A2B1C6",
            "ticks": ""
           }
          },
          "title": {
           "x": 0.05
          },
          "xaxis": {
           "automargin": true,
           "gridcolor": "#EBF0F8",
           "linecolor": "#EBF0F8",
           "ticks": "",
           "title": {
            "standoff": 15
           },
           "zerolinecolor": "#EBF0F8",
           "zerolinewidth": 2
          },
          "yaxis": {
           "automargin": true,
           "gridcolor": "#EBF0F8",
           "linecolor": "#EBF0F8",
           "ticks": "",
           "title": {
            "standoff": 15
           },
           "zerolinecolor": "#EBF0F8",
           "zerolinewidth": 2
          }
         }
        },
        "title": {
         "text": "Industries Most Affected by Layoffs"
        },
        "xaxis": {
         "anchor": "y",
         "categoryorder": "total descending",
         "domain": [
          0,
          1
         ],
         "title": {
          "text": "industry"
         }
        },
        "yaxis": {
         "anchor": "x",
         "domain": [
          0,
          1
         ],
         "title": {
          "text": "Total Laid Off"
         }
        }
       }
      }
     },
     "metadata": {},
     "output_type": "display_data"
    }
   ],
   "source": [
    "industry_totals = df.groupby('industry', as_index=False)['total_laid_off'].sum().sort_values('total_laid_off', ascending=False)\n",
    "top_industries = industry_totals.head(20)\n",
    "fig_industry = px.bar(top_industries, x='industry', y='total_laid_off', title='Industries Most Affected by Layoffs', text='total_laid_off')\n",
    "fig_industry.update_traces(texttemplate='%{text:.0f}', textposition='outside')\n",
    "fig_industry.update_layout(xaxis={'categoryorder':'total descending'}, yaxis_title='Total Laid Off')\n",
    "fig_industry.show()\n"
   ]
  },
  {
   "cell_type": "markdown",
   "id": "29ed6a71",
   "metadata": {},
   "source": [
    "## Correlation with funding"
   ]
  },
  {
   "cell_type": "code",
   "execution_count": 27,
   "id": "f8582033",
   "metadata": {},
   "outputs": [
    {
     "data": {
      "application/vnd.plotly.v1+json": {
       "config": {
        "plotlyServerURL": "https://plot.ly"
       },
       "data": [
        {
         "coloraxis": "coloraxis",
         "hovertemplate": "x: %{x}<br>y: %{y}<br>color: %{z}<extra></extra>",
         "name": "0",
         "texttemplate": "%{z}",
         "type": "heatmap",
         "x": [
          "total_laid_off",
          "percentage_laid_off",
          "funds_raised_millions"
         ],
         "xaxis": "x",
         "y": [
          "total_laid_off",
          "percentage_laid_off",
          "funds_raised_millions"
         ],
         "yaxis": "y",
         "z": {
          "bdata": "AAAAAAAA8D8AAAAAAAD4fwAAAAAAAPh/AAAAAAAA+H8AAAAAAAD4fwAAAAAAAPh/AAAAAAAA+H8AAAAAAAD4fwAAAAAAAPh/",
          "dtype": "f8",
          "shape": "3, 3"
         }
        }
       ],
       "layout": {
        "coloraxis": {
         "colorscale": [
          [
           0,
           "#0d0887"
          ],
          [
           0.1111111111111111,
           "#46039f"
          ],
          [
           0.2222222222222222,
           "#7201a8"
          ],
          [
           0.3333333333333333,
           "#9c179e"
          ],
          [
           0.4444444444444444,
           "#bd3786"
          ],
          [
           0.5555555555555556,
           "#d8576b"
          ],
          [
           0.6666666666666666,
           "#ed7953"
          ],
          [
           0.7777777777777778,
           "#fb9f3a"
          ],
          [
           0.8888888888888888,
           "#fdca26"
          ],
          [
           1,
           "#f0f921"
          ]
         ]
        },
        "template": {
         "data": {
          "bar": [
           {
            "error_x": {
             "color": "#2a3f5f"
            },
            "error_y": {
             "color": "#2a3f5f"
            },
            "marker": {
             "line": {
              "color": "white",
              "width": 0.5
             },
             "pattern": {
              "fillmode": "overlay",
              "size": 10,
              "solidity": 0.2
             }
            },
            "type": "bar"
           }
          ],
          "barpolar": [
           {
            "marker": {
             "line": {
              "color": "white",
              "width": 0.5
             },
             "pattern": {
              "fillmode": "overlay",
              "size": 10,
              "solidity": 0.2
             }
            },
            "type": "barpolar"
           }
          ],
          "carpet": [
           {
            "aaxis": {
             "endlinecolor": "#2a3f5f",
             "gridcolor": "#C8D4E3",
             "linecolor": "#C8D4E3",
             "minorgridcolor": "#C8D4E3",
             "startlinecolor": "#2a3f5f"
            },
            "baxis": {
             "endlinecolor": "#2a3f5f",
             "gridcolor": "#C8D4E3",
             "linecolor": "#C8D4E3",
             "minorgridcolor": "#C8D4E3",
             "startlinecolor": "#2a3f5f"
            },
            "type": "carpet"
           }
          ],
          "choropleth": [
           {
            "colorbar": {
             "outlinewidth": 0,
             "ticks": ""
            },
            "type": "choropleth"
           }
          ],
          "contour": [
           {
            "colorbar": {
             "outlinewidth": 0,
             "ticks": ""
            },
            "colorscale": [
             [
              0,
              "#0d0887"
             ],
             [
              0.1111111111111111,
              "#46039f"
             ],
             [
              0.2222222222222222,
              "#7201a8"
             ],
             [
              0.3333333333333333,
              "#9c179e"
             ],
             [
              0.4444444444444444,
              "#bd3786"
             ],
             [
              0.5555555555555556,
              "#d8576b"
             ],
             [
              0.6666666666666666,
              "#ed7953"
             ],
             [
              0.7777777777777778,
              "#fb9f3a"
             ],
             [
              0.8888888888888888,
              "#fdca26"
             ],
             [
              1,
              "#f0f921"
             ]
            ],
            "type": "contour"
           }
          ],
          "contourcarpet": [
           {
            "colorbar": {
             "outlinewidth": 0,
             "ticks": ""
            },
            "type": "contourcarpet"
           }
          ],
          "heatmap": [
           {
            "colorbar": {
             "outlinewidth": 0,
             "ticks": ""
            },
            "colorscale": [
             [
              0,
              "#0d0887"
             ],
             [
              0.1111111111111111,
              "#46039f"
             ],
             [
              0.2222222222222222,
              "#7201a8"
             ],
             [
              0.3333333333333333,
              "#9c179e"
             ],
             [
              0.4444444444444444,
              "#bd3786"
             ],
             [
              0.5555555555555556,
              "#d8576b"
             ],
             [
              0.6666666666666666,
              "#ed7953"
             ],
             [
              0.7777777777777778,
              "#fb9f3a"
             ],
             [
              0.8888888888888888,
              "#fdca26"
             ],
             [
              1,
              "#f0f921"
             ]
            ],
            "type": "heatmap"
           }
          ],
          "histogram": [
           {
            "marker": {
             "pattern": {
              "fillmode": "overlay",
              "size": 10,
              "solidity": 0.2
             }
            },
            "type": "histogram"
           }
          ],
          "histogram2d": [
           {
            "colorbar": {
             "outlinewidth": 0,
             "ticks": ""
            },
            "colorscale": [
             [
              0,
              "#0d0887"
             ],
             [
              0.1111111111111111,
              "#46039f"
             ],
             [
              0.2222222222222222,
              "#7201a8"
             ],
             [
              0.3333333333333333,
              "#9c179e"
             ],
             [
              0.4444444444444444,
              "#bd3786"
             ],
             [
              0.5555555555555556,
              "#d8576b"
             ],
             [
              0.6666666666666666,
              "#ed7953"
             ],
             [
              0.7777777777777778,
              "#fb9f3a"
             ],
             [
              0.8888888888888888,
              "#fdca26"
             ],
             [
              1,
              "#f0f921"
             ]
            ],
            "type": "histogram2d"
           }
          ],
          "histogram2dcontour": [
           {
            "colorbar": {
             "outlinewidth": 0,
             "ticks": ""
            },
            "colorscale": [
             [
              0,
              "#0d0887"
             ],
             [
              0.1111111111111111,
              "#46039f"
             ],
             [
              0.2222222222222222,
              "#7201a8"
             ],
             [
              0.3333333333333333,
              "#9c179e"
             ],
             [
              0.4444444444444444,
              "#bd3786"
             ],
             [
              0.5555555555555556,
              "#d8576b"
             ],
             [
              0.6666666666666666,
              "#ed7953"
             ],
             [
              0.7777777777777778,
              "#fb9f3a"
             ],
             [
              0.8888888888888888,
              "#fdca26"
             ],
             [
              1,
              "#f0f921"
             ]
            ],
            "type": "histogram2dcontour"
           }
          ],
          "mesh3d": [
           {
            "colorbar": {
             "outlinewidth": 0,
             "ticks": ""
            },
            "type": "mesh3d"
           }
          ],
          "parcoords": [
           {
            "line": {
             "colorbar": {
              "outlinewidth": 0,
              "ticks": ""
             }
            },
            "type": "parcoords"
           }
          ],
          "pie": [
           {
            "automargin": true,
            "type": "pie"
           }
          ],
          "scatter": [
           {
            "fillpattern": {
             "fillmode": "overlay",
             "size": 10,
             "solidity": 0.2
            },
            "type": "scatter"
           }
          ],
          "scatter3d": [
           {
            "line": {
             "colorbar": {
              "outlinewidth": 0,
              "ticks": ""
             }
            },
            "marker": {
             "colorbar": {
              "outlinewidth": 0,
              "ticks": ""
             }
            },
            "type": "scatter3d"
           }
          ],
          "scattercarpet": [
           {
            "marker": {
             "colorbar": {
              "outlinewidth": 0,
              "ticks": ""
             }
            },
            "type": "scattercarpet"
           }
          ],
          "scattergeo": [
           {
            "marker": {
             "colorbar": {
              "outlinewidth": 0,
              "ticks": ""
             }
            },
            "type": "scattergeo"
           }
          ],
          "scattergl": [
           {
            "marker": {
             "colorbar": {
              "outlinewidth": 0,
              "ticks": ""
             }
            },
            "type": "scattergl"
           }
          ],
          "scattermap": [
           {
            "marker": {
             "colorbar": {
              "outlinewidth": 0,
              "ticks": ""
             }
            },
            "type": "scattermap"
           }
          ],
          "scattermapbox": [
           {
            "marker": {
             "colorbar": {
              "outlinewidth": 0,
              "ticks": ""
             }
            },
            "type": "scattermapbox"
           }
          ],
          "scatterpolar": [
           {
            "marker": {
             "colorbar": {
              "outlinewidth": 0,
              "ticks": ""
             }
            },
            "type": "scatterpolar"
           }
          ],
          "scatterpolargl": [
           {
            "marker": {
             "colorbar": {
              "outlinewidth": 0,
              "ticks": ""
             }
            },
            "type": "scatterpolargl"
           }
          ],
          "scatterternary": [
           {
            "marker": {
             "colorbar": {
              "outlinewidth": 0,
              "ticks": ""
             }
            },
            "type": "scatterternary"
           }
          ],
          "surface": [
           {
            "colorbar": {
             "outlinewidth": 0,
             "ticks": ""
            },
            "colorscale": [
             [
              0,
              "#0d0887"
             ],
             [
              0.1111111111111111,
              "#46039f"
             ],
             [
              0.2222222222222222,
              "#7201a8"
             ],
             [
              0.3333333333333333,
              "#9c179e"
             ],
             [
              0.4444444444444444,
              "#bd3786"
             ],
             [
              0.5555555555555556,
              "#d8576b"
             ],
             [
              0.6666666666666666,
              "#ed7953"
             ],
             [
              0.7777777777777778,
              "#fb9f3a"
             ],
             [
              0.8888888888888888,
              "#fdca26"
             ],
             [
              1,
              "#f0f921"
             ]
            ],
            "type": "surface"
           }
          ],
          "table": [
           {
            "cells": {
             "fill": {
              "color": "#EBF0F8"
             },
             "line": {
              "color": "white"
             }
            },
            "header": {
             "fill": {
              "color": "#C8D4E3"
             },
             "line": {
              "color": "white"
             }
            },
            "type": "table"
           }
          ]
         },
         "layout": {
          "annotationdefaults": {
           "arrowcolor": "#2a3f5f",
           "arrowhead": 0,
           "arrowwidth": 1
          },
          "autotypenumbers": "strict",
          "coloraxis": {
           "colorbar": {
            "outlinewidth": 0,
            "ticks": ""
           }
          },
          "colorscale": {
           "diverging": [
            [
             0,
             "#8e0152"
            ],
            [
             0.1,
             "#c51b7d"
            ],
            [
             0.2,
             "#de77ae"
            ],
            [
             0.3,
             "#f1b6da"
            ],
            [
             0.4,
             "#fde0ef"
            ],
            [
             0.5,
             "#f7f7f7"
            ],
            [
             0.6,
             "#e6f5d0"
            ],
            [
             0.7,
             "#b8e186"
            ],
            [
             0.8,
             "#7fbc41"
            ],
            [
             0.9,
             "#4d9221"
            ],
            [
             1,
             "#276419"
            ]
           ],
           "sequential": [
            [
             0,
             "#0d0887"
            ],
            [
             0.1111111111111111,
             "#46039f"
            ],
            [
             0.2222222222222222,
             "#7201a8"
            ],
            [
             0.3333333333333333,
             "#9c179e"
            ],
            [
             0.4444444444444444,
             "#bd3786"
            ],
            [
             0.5555555555555556,
             "#d8576b"
            ],
            [
             0.6666666666666666,
             "#ed7953"
            ],
            [
             0.7777777777777778,
             "#fb9f3a"
            ],
            [
             0.8888888888888888,
             "#fdca26"
            ],
            [
             1,
             "#f0f921"
            ]
           ],
           "sequentialminus": [
            [
             0,
             "#0d0887"
            ],
            [
             0.1111111111111111,
             "#46039f"
            ],
            [
             0.2222222222222222,
             "#7201a8"
            ],
            [
             0.3333333333333333,
             "#9c179e"
            ],
            [
             0.4444444444444444,
             "#bd3786"
            ],
            [
             0.5555555555555556,
             "#d8576b"
            ],
            [
             0.6666666666666666,
             "#ed7953"
            ],
            [
             0.7777777777777778,
             "#fb9f3a"
            ],
            [
             0.8888888888888888,
             "#fdca26"
            ],
            [
             1,
             "#f0f921"
            ]
           ]
          },
          "colorway": [
           "#636efa",
           "#EF553B",
           "#00cc96",
           "#ab63fa",
           "#FFA15A",
           "#19d3f3",
           "#FF6692",
           "#B6E880",
           "#FF97FF",
           "#FECB52"
          ],
          "font": {
           "color": "#2a3f5f"
          },
          "geo": {
           "bgcolor": "white",
           "lakecolor": "white",
           "landcolor": "white",
           "showlakes": true,
           "showland": true,
           "subunitcolor": "#C8D4E3"
          },
          "hoverlabel": {
           "align": "left"
          },
          "hovermode": "closest",
          "mapbox": {
           "style": "light"
          },
          "paper_bgcolor": "white",
          "plot_bgcolor": "white",
          "polar": {
           "angularaxis": {
            "gridcolor": "#EBF0F8",
            "linecolor": "#EBF0F8",
            "ticks": ""
           },
           "bgcolor": "white",
           "radialaxis": {
            "gridcolor": "#EBF0F8",
            "linecolor": "#EBF0F8",
            "ticks": ""
           }
          },
          "scene": {
           "xaxis": {
            "backgroundcolor": "white",
            "gridcolor": "#DFE8F3",
            "gridwidth": 2,
            "linecolor": "#EBF0F8",
            "showbackground": true,
            "ticks": "",
            "zerolinecolor": "#EBF0F8"
           },
           "yaxis": {
            "backgroundcolor": "white",
            "gridcolor": "#DFE8F3",
            "gridwidth": 2,
            "linecolor": "#EBF0F8",
            "showbackground": true,
            "ticks": "",
            "zerolinecolor": "#EBF0F8"
           },
           "zaxis": {
            "backgroundcolor": "white",
            "gridcolor": "#DFE8F3",
            "gridwidth": 2,
            "linecolor": "#EBF0F8",
            "showbackground": true,
            "ticks": "",
            "zerolinecolor": "#EBF0F8"
           }
          },
          "shapedefaults": {
           "line": {
            "color": "#2a3f5f"
           }
          },
          "ternary": {
           "aaxis": {
            "gridcolor": "#DFE8F3",
            "linecolor": "#A2B1C6",
            "ticks": ""
           },
           "baxis": {
            "gridcolor": "#DFE8F3",
            "linecolor": "#A2B1C6",
            "ticks": ""
           },
           "bgcolor": "white",
           "caxis": {
            "gridcolor": "#DFE8F3",
            "linecolor": "#A2B1C6",
            "ticks": ""
           }
          },
          "title": {
           "x": 0.05
          },
          "xaxis": {
           "automargin": true,
           "gridcolor": "#EBF0F8",
           "linecolor": "#EBF0F8",
           "ticks": "",
           "title": {
            "standoff": 15
           },
           "zerolinecolor": "#EBF0F8",
           "zerolinewidth": 2
          },
          "yaxis": {
           "automargin": true,
           "gridcolor": "#EBF0F8",
           "linecolor": "#EBF0F8",
           "ticks": "",
           "title": {
            "standoff": 15
           },
           "zerolinecolor": "#EBF0F8",
           "zerolinewidth": 2
          }
         }
        },
        "title": {
         "text": "Correlation Matrix"
        },
        "xaxis": {
         "anchor": "y",
         "domain": [
          0,
          1
         ]
        },
        "yaxis": {
         "anchor": "x",
         "autorange": "reversed",
         "domain": [
          0,
          1
         ]
        }
       }
      }
     },
     "metadata": {},
     "output_type": "display_data"
    },
    {
     "name": "stdout",
     "output_type": "stream",
     "text": [
      "Insufficient data for layoffs vs. funds raised scatter.\n"
     ]
    }
   ],
   "source": [
    "corr_cols = [c for c in ['total_laid_off','percentage_laid_off','funds_raised_millions'] if c in df.columns]\n",
    "if corr_cols:\n",
    "    corr = df[corr_cols].corr(numeric_only=True)\n",
    "    fig_corr = px.imshow(corr, text_auto=True, aspect='auto', title='Correlation Matrix')\n",
    "    fig_corr.show()\n",
    "else:\n",
    "    print('No numeric columns available for correlation matrix.')\n",
    "\n",
    "if 'funds_raised_millions' in df.columns:\n",
    "    scatter_df = df.dropna(subset=['funds_raised_millions','total_laid_off']).copy()\n",
    "    if len(scatter_df) > 0:\n",
    "        color_col = 'stage' if 'stage' in df.columns else None\n",
    "        fig_scatter = px.scatter(scatter_df, x='funds_raised_millions', y='total_laid_off', color=color_col,\n",
    "                                 title='Layoffs vs. Funds Raised', labels={'funds_raised_millions':'Funds Raised (USD millions)'})\n",
    "        fig_scatter.update_xaxes(type='log')\n",
    "        fig_scatter.show()\n",
    "    else:\n",
    "        print('Insufficient data for layoffs vs. funds raised scatter.')\n",
    "else:\n",
    "    print('Column funds_raised_millions not found; skipping scatter.')\n"
   ]
  },
  {
   "cell_type": "markdown",
   "id": "5e1b94ff",
   "metadata": {},
   "source": [
    "## Top 10 Most Affected Companies — interactive"
   ]
  },
  {
   "cell_type": "code",
   "execution_count": 28,
   "id": "af4a2f6b",
   "metadata": {},
   "outputs": [
    {
     "data": {
      "application/vnd.jupyter.widget-view+json": {
       "model_id": "0f23c4f87c5741cfa0818dd0fcd47e2f",
       "version_major": 2,
       "version_minor": 0
      },
      "text/plain": [
       "HBox(children=(Dropdown(description='Year:', options=('All', 2020, 2021, 2022, 2023, 2024, 2025), value='All')…"
      ]
     },
     "metadata": {},
     "output_type": "display_data"
    },
    {
     "data": {
      "application/vnd.jupyter.widget-view+json": {
       "model_id": "508a0aef44e341af95dee368c5bceb9e",
       "version_major": 2,
       "version_minor": 0
      },
      "text/plain": [
       "Output()"
      ]
     },
     "metadata": {},
     "output_type": "display_data"
    }
   ],
   "source": [
    "import plotly.express as px\n",
    "def render_topn_bar(sub_df: pd.DataFrame, topn: int = 10):\n",
    "    top = (sub_df.groupby('company', as_index=False)['total_laid_off']\n",
    "             .sum().sort_values('total_laid_off', ascending=False).head(topn))\n",
    "    if len(top) == 0:\n",
    "        print('No data for current filters.'); return\n",
    "    fig = px.bar(top, x='company', y='total_laid_off', title=f'Top {topn} Companies by Layoffs', text='total_laid_off')\n",
    "    fig.update_traces(texttemplate='%{text:.0f}', textposition='outside')\n",
    "    fig.update_layout(xaxis={'categoryorder':'total descending'}, yaxis_title='Total Laid Off')\n",
    "    fig.show()\n",
    "\n",
    "try:\n",
    "    import ipywidgets as widgets\n",
    "    from IPython.display import display, clear_output\n",
    "    years = ['All'] + sorted(pd.Series(df['year'].dropna().unique()).astype(int).tolist())\n",
    "    industries = ['All'] + sorted([str(x) for x in df['industry'].dropna().unique()])\n",
    "    countries = ['All'] + sorted([str(x) for x in df['country'].dropna().unique()])\n",
    "    w_year = widgets.Dropdown(options=years, value='All', description='Year:')\n",
    "    w_industry = widgets.Dropdown(options=industries, value='All', description='Industry:')\n",
    "    w_country = widgets.Dropdown(options=countries, value='All', description='Country:')\n",
    "    w_topn = widgets.IntSlider(value=10, min=5, max=30, step=1, description='Top N')\n",
    "    out = widgets.Output()\n",
    "\n",
    "    def update_dashboard(*args):\n",
    "        with out:\n",
    "            clear_output(wait=True)\n",
    "            mask = pd.Series(True, index=df.index)\n",
    "            if w_year.value != 'All': mask &= df['year'] == int(w_year.value)\n",
    "            if w_industry.value != 'All': mask &= df['industry'] == w_industry.value\n",
    "            if w_country.value != 'All': mask &= df['country'] == w_country.value\n",
    "            sub = df[mask] if mask.any() else df.iloc[0:0]\n",
    "            render_topn_bar(sub, topn=int(w_topn.value))\n",
    "\n",
    "    for w in [w_year, w_industry, w_country, w_topn]:\n",
    "        w.observe(update_dashboard, names='value')\n",
    "    display(widgets.HBox([w_year, w_industry, w_country, w_topn])); display(out); update_dashboard()\n",
    "except Exception:\n",
    "    print('ipywidgets not available; showing static Top 10 chart.')\n",
    "    render_topn_bar(df, topn=10)\n"
   ]
  },
  {
   "cell_type": "markdown",
   "id": "f844d419",
   "metadata": {},
   "source": [
    "## Summary"
   ]
  },
  {
   "cell_type": "code",
   "execution_count": 30,
   "id": "bdb781b8",
   "metadata": {},
   "outputs": [
    {
     "data": {
      "text/markdown": [
       "## Insights Summary\n",
       "\n",
       "**Overall**\n",
       "- **Total layoffs (2020–2025)**: 770,546\n",
       "- **Peak month**: 2023-01 — 89,709 layoffs\n",
       "- **Peak year**: 2023 — 264,220 layoffs\n",
       "\n",
       "**Industries most affected (Top 5)**\n",
       "- **Hardware**: 86,528\n",
       "- **Other**: 82,793\n",
       "- **Consumer**: 78,596\n",
       "- **Retail**: 73,721\n",
       "- **Transportation**: 64,266\n",
       "\n",
       "**Countries most affected (Top 5)**\n",
       "- **United States**: 530,135\n",
       "- **India**: 61,411\n",
       "- **Germany**: 31,273\n",
       "- **United Kingdom**: 21,972\n",
       "- **Netherlands**: 19,875\n",
       "\n",
       "**Top 10 companies by total layoffs**\n",
       "1. **Intel** — 43,115\n",
       "2. **Microsoft** — 30,055\n",
       "3. **Amazon** — 27,940\n",
       "4. **Meta** — 24,700\n",
       "5. **Salesforce** — 16,525\n",
       "6. **Cisco** — 14,521\n",
       "7. **Tesla** — 14,500\n",
       "8. **Google** — 13,547\n",
       "9. **Dell** — 12,650\n",
       "10. **SAP** — 11,000\n",
       "\n",
       "**Funding signal**\n",
       "- Correlation unavailable (insufficient data)\n",
       "\n",
       "**By funding stage (Top 5)**\n",
       "- **Post-IPO**: 451,979\n",
       "- **Unknown**: 75,160\n",
       "- **Acquired**: 69,536\n",
       "- **Series B**: 30,524\n",
       "- **Series C**: 27,028\n"
      ],
      "text/plain": [
       "<IPython.core.display.Markdown object>"
      ]
     },
     "metadata": {},
     "output_type": "display_data"
    }
   ],
   "source": [
    "from IPython.display import Markdown, display\n",
    "import pandas as pd\n",
    "import numpy as np\n",
    "\n",
    "def _fmt_int(x):\n",
    "    try:\n",
    "        return f\"{int(x):,}\"\n",
    "    except Exception:\n",
    "        return \"—\"\n",
    "\n",
    "# Overall totals\n",
    "overall_total = _fmt_int(df['total_laid_off'].sum()) if 'total_laid_off' in df.columns else '—'\n",
    "\n",
    "# Peak month\n",
    "peak_month_str, peak_month_total = 'N/A', '—'\n",
    "if len(monthly) and monthly['total_laid_off'].notna().any():\n",
    "    peak_idx = monthly['total_laid_off'].idxmax()\n",
    "    row = monthly.loc[peak_idx]\n",
    "    try:\n",
    "        pm = pd.to_datetime(row['month_period'])\n",
    "        peak_month_str = pm.strftime('%Y-%m')\n",
    "    except Exception:\n",
    "        peak_month_str = str(row['month_period'])\n",
    "    peak_month_total = _fmt_int(row['total_laid_off'])\n",
    "\n",
    "# Peak year\n",
    "peak_year_str, peak_year_total = 'N/A', '—'\n",
    "if 'year' in df.columns and df['year'].notna().any():\n",
    "    ysum = df.groupby('year')['total_laid_off'].sum().sort_values(ascending=False)\n",
    "    if len(ysum):\n",
    "        peak_year_str = str(int(ysum.index[0]))\n",
    "        peak_year_total = _fmt_int(ysum.iloc[0])\n",
    "\n",
    "# Top industries\n",
    "top_industries = []\n",
    "if 'industry' in df.columns:\n",
    "    tmp = (df.dropna(subset=['industry'])\n",
    "             .groupby('industry')['total_laid_off'].sum()\n",
    "             .sort_values(ascending=False).head(5))\n",
    "    for name, val in tmp.items():\n",
    "        top_industries.append(f\"- **{name}**: {_fmt_int(val)}\")\n",
    "if not top_industries:\n",
    "    top_industries = [\"- N/A\"]\n",
    "\n",
    "# Top countries\n",
    "top_countries = []\n",
    "if 'country' in df.columns:\n",
    "    tmp = (df.dropna(subset=['country'])\n",
    "             .groupby('country')['total_laid_off'].sum()\n",
    "             .sort_values(ascending=False).head(5))\n",
    "    for name, val in tmp.items():\n",
    "        top_countries.append(f\"- **{name}**: {_fmt_int(val)}\")\n",
    "if not top_countries:\n",
    "    top_countries = [\"- N/A\"]\n",
    "\n",
    "# Top companies\n",
    "top_companies = []\n",
    "if 'company' in df.columns:\n",
    "    tmp = (df.dropna(subset=['company'])\n",
    "             .groupby('company')['total_laid_off'].sum()\n",
    "             .sort_values(ascending=False).head(10))\n",
    "    for i, (name, val) in enumerate(tmp.items(), 1):\n",
    "        top_companies.append(f\"{i}. **{name}** — {_fmt_int(val)}\")\n",
    "if not top_companies:\n",
    "    top_companies = [\"- N/A\"]\n",
    "\n",
    "# Correlation with funds raised\n",
    "corr_line = \"- Correlation unavailable (insufficient data)\"\n",
    "if {'total_laid_off','funds_raised_millions'}.issubset(df.columns):\n",
    "    cc = df[['total_laid_off','funds_raised_millions']].dropna()\n",
    "    if len(cc) >= 3:\n",
    "        r = cc['total_laid_off'].corr(cc['funds_raised_millions'])\n",
    "        corr_line = f\"- Correlation (Pearson) layoffs vs. funds raised: {r:.3f}\"\n",
    "\n",
    "# Totals by stage\n",
    "stage_lines = []\n",
    "if 'stage' in df.columns:\n",
    "    tmp = (df.dropna(subset=['stage'])\n",
    "             .groupby('stage')['total_laid_off'].sum()\n",
    "             .sort_values(ascending=False).head(5))\n",
    "    for name, val in tmp.items():\n",
    "        stage_lines.append(f\"- **{name}**: {_fmt_int(val)}\")\n",
    "if not stage_lines:\n",
    "    stage_lines = [\"- N/A\"]\n",
    "\n",
    "insights_md = f\"\"\"## Insights Summary\n",
    "\n",
    "**Overall**\n",
    "- **Total layoffs (2020–2025)**: {overall_total}\n",
    "- **Peak month**: {peak_month_str} — {peak_month_total} layoffs\n",
    "- **Peak year**: {peak_year_str} — {peak_year_total} layoffs\n",
    "\n",
    "**Industries most affected (Top 5)**\n",
    "{chr(10).join(top_industries)}\n",
    "\n",
    "**Countries most affected (Top 5)**\n",
    "{chr(10).join(top_countries)}\n",
    "\n",
    "**Top 10 companies by total layoffs**\n",
    "{chr(10).join(top_companies)}\n",
    "\n",
    "**Funding signal**\n",
    "{corr_line}\n",
    "\n",
    "**By funding stage (Top 5)**\n",
    "{chr(10).join(stage_lines)}\n",
    "\"\"\"\n",
    "\n",
    "display(Markdown(insights_md))"
   ]
  }
 ],
 "metadata": {
  "kernelspec": {
   "display_name": "Python 3",
   "language": "python",
   "name": "python3"
  },
  "language_info": {
   "codemirror_mode": {
    "name": "ipython",
    "version": 3
   },
   "file_extension": ".py",
   "mimetype": "text/x-python",
   "name": "python",
   "nbconvert_exporter": "python",
   "pygments_lexer": "ipython3",
   "version": "3.10.11"
  }
 },
 "nbformat": 4,
 "nbformat_minor": 5
}
